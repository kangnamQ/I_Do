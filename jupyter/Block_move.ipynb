{
 "cells": [
  {
   "cell_type": "code",
   "execution_count": 1,
   "metadata": {},
   "outputs": [],
   "source": [
    "### 기계공학과 4학년\n",
    "### 20154523 강남규"
   ]
  },
  {
   "cell_type": "markdown",
   "metadata": {},
   "source": [
    "## 블록 이동"
   ]
  },
  {
   "cell_type": "code",
   "execution_count": 2,
   "metadata": {},
   "outputs": [
    {
     "name": "stdout",
     "output_type": "stream",
     "text": [
      "pygame 1.9.6\n",
      "Hello from the pygame community. https://www.pygame.org/contribute.html\n"
     ]
    }
   ],
   "source": [
    "import pygame\n",
    "import random\n",
    "\n",
    "black = (0,0,0)\n",
    "white = (255,255,255)\n",
    "red = (255,0,0)\n",
    "\n",
    "class Block(pygame.sprite.Sprite):\n",
    "    def __init__(self, color, width, height):\n",
    "        pygame.sprite.Sprite.__init__(self)\n",
    "        self.image = pygame.Surface([width, height])\n",
    "        self.image.fill(color)\n",
    "        \n",
    "        self.rect = self.image.get_rect()\n",
    "        \n",
    "        def reset_pos(self):\n",
    "            self.rect.y = random.randrange(-100,-10)\n",
    "            self.rect.x = random.randrange(0,screen_width)\n",
    "            \n",
    "        def update(self, change_y):\n",
    "            self.rect.y += change_y\n",
    "            if self.rect.y > screen_height:\n",
    "                self.reset_pos()\n",
    "\n",
    "pygame.init()\n",
    "\n",
    "screen_width = 700\n",
    "screen_height = 400\n",
    "screen = pygame.display.set_mode([screen_width,screen_height])\n",
    "\n",
    "block_list = pygame.sprite.Group()\n",
    "all_sprites_list =pygame.sprite.Group()\n",
    "\n",
    "for i in range(50):\n",
    "    block = Block(black, 20, 15)\n",
    "    block.rect.x = random.randrange(screen_width)\n",
    "    block.rect.y = random.randrange(screen_height)\n",
    "    block_list.add(block)\n",
    "    all_sprites_list.add(block)\n",
    "    \n",
    "player = Block(red, 20, 15)\n",
    "all_sprites_list.add(player)\n",
    "\n",
    "done = False\n",
    "clock = pygame.time.Clock()\n",
    "\n",
    "font = pygame.font.Font(\"malgun.ttf\", 25)\n",
    "score = 0\n",
    "level = 1\n",
    "\n",
    "while done == False:    \n",
    "    for event in pygame.event.get():\n",
    "        if event.type == pygame.QUIT:\n",
    "            done=True\n",
    "            \n",
    "    screen.fill(white)\n",
    "    pos = pygame.mouse.get_pos()\n",
    "    player.rect.x = pos[0]\n",
    "    player.rect.y = pos[1]\n",
    "    \n",
    "    blocks_hit_list = pygame.sprite.spritecollide(player, block_list, True)\n",
    "    \n",
    "    if len(blocks_hit_list) > 0:\n",
    "        score += len(blocks_hit_list)\n",
    "    \n",
    "    if len(block_list) == 0:\n",
    "        level += 1\n",
    "\n",
    "        for i in range(level * 10):\n",
    "            block = Block(black, 20, 15)\n",
    "            block.rect.x = random.randrange(screen_width)\n",
    "            block.rect.y = random.randrange(screen_height)\n",
    "            block_list.add(block)\n",
    "            all_sprites_list.add(block)\n",
    "        \n",
    "    all_sprites_list.draw(screen)\n",
    "    text = font.render(\"점수: \" + str(score), True, black)\n",
    "    screen.blit(text, [10,10])\n",
    "    text = font.render(\"레벨: \" + str(level), True, black)\n",
    "    screen.blit(text, [10,40])\n",
    "    \n",
    "    block_list.update(level)\n",
    "    \n",
    "    clock.tick(20)\n",
    "    pygame.display.flip()\n",
    "\n",
    "pygame.quit()"
   ]
  }
 ],
 "metadata": {
  "kernelspec": {
   "display_name": "Python 3",
   "language": "python",
   "name": "python3"
  },
  "language_info": {
   "codemirror_mode": {
    "name": "ipython",
    "version": 3
   },
   "file_extension": ".py",
   "mimetype": "text/x-python",
   "name": "python",
   "nbconvert_exporter": "python",
   "pygments_lexer": "ipython3",
   "version": "3.8.5"
  }
 },
 "nbformat": 4,
 "nbformat_minor": 4
}
