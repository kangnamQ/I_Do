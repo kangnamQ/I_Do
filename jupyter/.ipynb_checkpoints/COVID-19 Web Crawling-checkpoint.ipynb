{
 "cells": [
  {
   "cell_type": "code",
   "execution_count": 1,
   "metadata": {},
   "outputs": [],
   "source": [
    "### 기계공학과 4학년\n",
    "### 20154523 강남규"
   ]
  },
  {
   "cell_type": "markdown",
   "metadata": {},
   "source": [
    "## 코로나바이러스감염증-19(COVID-19) 환자 현황"
   ]
  },
  {
   "cell_type": "code",
   "execution_count": 2,
   "metadata": {},
   "outputs": [],
   "source": [
    "import urllib.request\n",
    "import re\n",
    "from bs4 import BeautifulSoup"
   ]
  },
  {
   "cell_type": "code",
   "execution_count": 3,
   "metadata": {},
   "outputs": [],
   "source": [
    "page1 = urllib.request.urlopen(\"http://ncov.mohw.go.kr/\").read()\n",
    "soup1 = BeautifulSoup(page1, 'html.parser')"
   ]
  },
  {
   "cell_type": "code",
   "execution_count": 4,
   "metadata": {},
   "outputs": [],
   "source": [
    "patient_data = soup1.find('div', {'class' : 'container'})\n",
    "\n",
    "current_data = patient_data.find('div', {'class' : 'liveNumOuter'})"
   ]
  },
  {
   "cell_type": "code",
   "execution_count": 5,
   "metadata": {},
   "outputs": [
    {
     "name": "stdout",
     "output_type": "stream",
     "text": [
      "['', '9', '21', '00시', '기준', '1', '3', '이후', '누계', '']\n"
     ]
    }
   ],
   "source": [
    "when_current = current_data.find('span', {'class' : 'livedate'}).text  \n",
    "when_current_t = re.split('\\W+', when_current)\n",
    "print(when_current_t)"
   ]
  },
  {
   "cell_type": "code",
   "execution_count": 6,
   "metadata": {},
   "outputs": [
    {
     "name": "stdout",
     "output_type": "stream",
     "text": [
      "9월 21일 00시 기준\n"
     ]
    }
   ],
   "source": [
    "when = (when_current_t[1]+'월 '+when_current_t[2]+'일 '+when_current_t[3]+' '+when_current_t[4])\n",
    "print(when)"
   ]
  },
  {
   "cell_type": "code",
   "execution_count": 7,
   "metadata": {},
   "outputs": [
    {
     "name": "stdout",
     "output_type": "stream",
     "text": [
      "일일확진자\n",
      "국내발생\n",
      "55\n"
     ]
    }
   ],
   "source": [
    "today_current = current_data.find('div', {'class' : 'liveNum_today_new'})\n",
    "\n",
    "tit = today_current.find('strong', {'class' : 'tit'}).text\n",
    "subtit = today_current.find('span', {'class' : 'subtit'}).text\n",
    "\n",
    "subtit_number = today_current.find('span', {'class' : 'data'}).text\n",
    "\n",
    "print(tit)\n",
    "print(subtit)\n",
    "print(subtit_number)"
   ]
  },
  {
   "cell_type": "code",
   "execution_count": 8,
   "metadata": {},
   "outputs": [
    {
     "name": "stdout",
     "output_type": "stream",
     "text": [
      "9월 21일 00시 기준 일일확진자 중 국내발생자는 55명 입니다. \n",
      "\n"
     ]
    }
   ],
   "source": [
    "when_current_info= (when+' '+tit+' 중 '+subtit+'자는 '+subtit_number+\"명 입니다. \\n\")\n",
    "print(when_current_info)"
   ]
  },
  {
   "cell_type": "code",
   "execution_count": 9,
   "metadata": {},
   "outputs": [],
   "source": [
    "page2 = urllib.request.urlopen(\"http://ncov.mohw.go.kr/bdBoardList_Real.do?brdId=1&brdGubun=13&ncvContSeq=&contSeq=&board_id=&gubun=\").read()\n",
    "soup2 = BeautifulSoup(page2, 'html.parser')"
   ]
  },
  {
   "cell_type": "code",
   "execution_count": 10,
   "metadata": {},
   "outputs": [],
   "source": [
    "table_today = soup2.find('table',{'class':'num midsize'})\n",
    "data = []\n",
    "\n",
    "today_a=table_today.find('tbody')\n"
   ]
  },
  {
   "cell_type": "code",
   "execution_count": 11,
   "metadata": {},
   "outputs": [
    {
     "name": "stdout",
     "output_type": "stream",
     "text": [
      "부산80838557324411.28\n",
      "[['서울', '23', '부산', '80', '대구', '11', '인천', '21', '광주', '11', '대전', '20', '울산', '00', '세종', '00'], ['경기', '18', '강원', '00', '충북', '00', '전북', '00', '전남', '00', '경북', '10', '경남', '20', '제주', '00']]\n",
      "서울은 오늘 전일대비 23명 증가하였습니다. \n",
      "\n",
      "부산은 오늘 전일대비 8명 증가하였습니다. \n",
      "\n",
      "대구은 오늘 전일대비 1명 증가하였습니다. \n",
      "\n",
      "인천은 오늘 전일대비 2명 증가하였습니다. \n",
      "\n",
      "광주은 오늘 전일대비 1명 증가하였습니다. \n",
      "\n",
      "대전은 오늘 전일대비 2명 증가하였습니다. \n",
      "\n",
      "울산은 오늘 전일대비 0명 증가하였습니다. \n",
      "\n",
      "세종은 오늘 전일대비 0명 증가하였습니다. \n",
      "\n",
      "경기은 오늘 전일대비 18명 증가하였습니다. \n",
      "\n",
      "강원은 오늘 전일대비 0명 증가하였습니다. \n",
      "\n",
      "충북은 오늘 전일대비 2명 증가하였습니다. \n",
      "\n",
      "충남은 오늘 전일대비 0명 증가하였습니다. \n",
      "\n",
      "전북은 오늘 전일대비 0명 증가하였습니다. \n",
      "\n",
      "전남은 오늘 전일대비 0명 증가하였습니다. \n",
      "\n",
      "경북은 오늘 전일대비 1명 증가하였습니다. \n",
      "\n",
      "경남은 오늘 전일대비 2명 증가하였습니다. \n",
      "\n",
      "제주은 오늘 전일대비 0명 증가하였습니다. \n",
      "\n"
     ]
    }
   ],
   "source": [
    "where = list(today_a.find_all('tr'))\n",
    "a1 = (where[1].text) \n",
    "a2 = (where[2].text) \n",
    "a3 = (where[3].text) \n",
    "a4 = (where[4].text) \n",
    "a5 = (where[5].text) \n",
    "a6 = (where[6].text) \n",
    "a7 = (where[7].text) \n",
    "a8 = (where[8].text) \n",
    "a9 = (where[9].text) \n",
    "a10 = (where[10].text) \n",
    "a11 = (where[11].text) \n",
    "a12 = (where[12].text) \n",
    "a13 = (where[13].text) \n",
    "a14 = (where[14].text) \n",
    "a15 = (where[15].text) \n",
    "a16 = (where[16].text) \n",
    "a17 = (where[17].text) \n",
    "   \n",
    "aa = []\n",
    "\n",
    "aa.append([a1[:2],a1[2:4]]+[a2[:2],a2[2:4]]+[a3[:2],a3[2:4]]+[a4[:2],a4[2:4]]+[a5[:2],a5[2:4]]+[a6[:2],a6[2:4]]+[a7[:2],a7[2:4]]+[a8[:2],a8[2:4]])\n",
    "aa.append([a9[:2],a9[2:4]]+[a10[:2],a10[2:4]]+[a11[:2],a12[2:4]]+[a13[:2],a13[2:4]]+[a14[:2],a14[2:4]]+[a15[:2],a15[2:4]]+[a16[:2],a16[2:4]]+[a17[:2],a17[2:4]])            \n",
    "print(a2)\n",
    "print(aa)\n",
    "\n",
    "print(a1[:2]+'은 오늘 전일대비 ' +a1[2:4]+'명 증가하였습니다. \\n')\n",
    "print(a2[:2]+'은 오늘 전일대비 ' +a2[2:3]+'명 증가하였습니다. \\n')\n",
    "print(a3[:2]+'은 오늘 전일대비 ' +a3[2:3]+'명 증가하였습니다. \\n')\n",
    "print(a4[:2]+'은 오늘 전일대비 ' +a4[2:3]+'명 증가하였습니다. \\n')\n",
    "print(a5[:2]+'은 오늘 전일대비 ' +a5[2:3]+'명 증가하였습니다. \\n')\n",
    "print(a6[:2]+'은 오늘 전일대비 ' +a6[2:3]+'명 증가하였습니다. \\n')\n",
    "print(a7[:2]+'은 오늘 전일대비 ' +a7[2:3]+'명 증가하였습니다. \\n')\n",
    "print(a8[:2]+'은 오늘 전일대비 ' +a8[2:3]+'명 증가하였습니다. \\n')\n",
    "print(a9[:2]+'은 오늘 전일대비 ' +a9[2:4]+'명 증가하였습니다. \\n')\n",
    "print(a10[:2]+'은 오늘 전일대비 ' +a10[2:3]+'명 증가하였습니다. \\n')\n",
    "print(a11[:2]+'은 오늘 전일대비 ' +a11[2:3]+'명 증가하였습니다. \\n')\n",
    "print(a12[:2]+'은 오늘 전일대비 ' +a12[2:3]+'명 증가하였습니다. \\n')\n",
    "print(a13[:2]+'은 오늘 전일대비 ' +a13[2:3]+'명 증가하였습니다. \\n')\n",
    "print(a14[:2]+'은 오늘 전일대비 ' +a14[2:3]+'명 증가하였습니다. \\n')\n",
    "print(a15[:2]+'은 오늘 전일대비 ' +a15[2:3]+'명 증가하였습니다. \\n')\n",
    "print(a16[:2]+'은 오늘 전일대비 ' +a16[2:3]+'명 증가하였습니다. \\n')\n",
    "print(a17[:2]+'은 오늘 전일대비 ' +a17[2:3]+'명 증가하였습니다. \\n')\n"
   ]
  },
  {
   "cell_type": "code",
   "execution_count": 13,
   "metadata": {},
   "outputs": [
    {
     "data": {
      "text/plain": [
       "\"\\nfor tr in today_a.find_all('tr'):\\n    \\n    if (tr.find_all('th')):\\n      tds = list(tr.find_all('td'))\\n      ths = list(tr,find('th'))\\n      for th in ths:\\n        if th.find('th'):\\n          point = tr.find_all('th')\\n          data.append([point])\\n    \\n      for td in tds:\\n        if th.find('td'):\\n            \\n            sum_today = tds[2].text\\n            inside_today = tds[4].text\\n            history = tds[3].text\\n            data.append([point, sum_today, inside_today, history])\\n\""
      ]
     },
     "execution_count": 13,
     "metadata": {},
     "output_type": "execute_result"
    }
   ],
   "source": [
    "\n",
    "\n",
    "#for tr in today_a.find_all('tr'):\n",
    "#    \n",
    "#    if (tr.find_all('th')):\n",
    "#      tds = list(tr.find_all('td'))\n",
    "#      ths = list(tr,find('th'))\n",
    "#      for th in ths:\n",
    "#        if th.find('th'):\n",
    "#          point = tr.find_all('th')\n",
    "#          data.append([point])\n",
    "#    \n",
    "#      for td in tds:\n",
    "#        if th.find('td'):\n",
    "#            \n",
    "#            sum_today = tds[2].text\n",
    "#            inside_today = tds[4].text\n",
    "#            history = tds[3].text\n",
    "#            data.append([point, sum_today, inside_today, history])\n",
    "\n"
   ]
  },
  {
   "cell_type": "code",
   "execution_count": null,
   "metadata": {},
   "outputs": [],
   "source": [
    "print(data)"
   ]
  },
  {
   "cell_type": "code",
   "execution_count": null,
   "metadata": {},
   "outputs": [],
   "source": [
    "with open('COVID-19_Now.csv', 'w', encoding='utf8') as file:\n",
    "    file.write('코로나바일러스감염증-19 (COVID-19) 확진 환자 현황 \\n\\n')\n",
    "    \n",
    "    file.write(when_current_info)\n",
    "    \n",
    "    file.write('\\n도시, 누적 확진자, 전일대비 증가 환자 \\n\\n')\n",
    "    \n",
    "    file.write(a1[:2]+'은 오늘 전일대비 ' +a1[2:4]+'명 증가하였습니다. \\n')\n",
    "    file.write(a2[:2]+'은 오늘 전일대비 ' +a2[2:3]+'명 증가하였습니다. \\n')\n",
    "    file.write(a3[:2]+'은 오늘 전일대비 ' +a3[2:3]+'명 증가하였습니다. \\n')\n",
    "    file.write(a4[:2]+'은 오늘 전일대비 ' +a4[2:3]+'명 증가하였습니다. \\n')\n",
    "    file.write(a5[:2]+'은 오늘 전일대비 ' +a5[2:3]+'명 증가하였습니다. \\n')\n",
    "    file.write(a6[:2]+'은 오늘 전일대비 ' +a6[2:3]+'명 증가하였습니다. \\n')\n",
    "    file.write(a7[:2]+'은 오늘 전일대비 ' +a7[2:3]+'명 증가하였습니다. \\n')\n",
    "    file.write(a8[:2]+'은 오늘 전일대비 ' +a8[2:3]+'명 증가하였습니다. \\n')\n",
    "    file.write(a9[:2]+'은 오늘 전일대비 ' +a9[2:4]+'명 증가하였습니다. \\n')\n",
    "    file.write(a10[:2]+'은 오늘 전일대비 ' +a10[2:3]+'명 증가하였습니다. \\n')\n",
    "    file.write(a11[:2]+'은 오늘 전일대비 ' +a11[2:3]+'명 증가하였습니다. \\n')\n",
    "    file.write(a12[:2]+'은 오늘 전일대비 ' +a12[2:3]+'명 증가하였습니다. \\n')\n",
    "    file.write(a13[:2]+'은 오늘 전일대비 ' +a13[2:3]+'명 증가하였습니다. \\n')\n",
    "    file.write(a14[:2]+'은 오늘 전일대비 ' +a14[2:3]+'명 증가하였습니다. \\n')\n",
    "    file.write(a15[:2]+'은 오늘 전일대비 ' +a15[2:3]+'명 증가하였습니다. \\n')\n",
    "    file.write(a16[:2]+'은 오늘 전일대비 ' +a16[2:3]+'명 증가하였습니다. \\n')\n",
    "    file.write(a17[:2]+'은 오늘 전일대비 ' +a17[2:3]+'명 증가하였습니다. \\n')\n",
    "\n",
    "    \n",
    "               \n",
    "    file.write('\\n\\n자료는 중앙재난안전대책본부(http://ncov.mohw.go.kr/)의 집계를 바탕으로 작성되었습니다.')"
   ]
  },
  {
   "cell_type": "code",
   "execution_count": null,
   "metadata": {},
   "outputs": [],
   "source": []
  },
  {
   "cell_type": "code",
   "execution_count": null,
   "metadata": {},
   "outputs": [],
   "source": []
  }
 ],
 "metadata": {
  "kernelspec": {
   "display_name": "Python 3",
   "language": "python",
   "name": "python3"
  },
  "language_info": {
   "codemirror_mode": {
    "name": "ipython",
    "version": 3
   },
   "file_extension": ".py",
   "mimetype": "text/x-python",
   "name": "python",
   "nbconvert_exporter": "python",
   "pygments_lexer": "ipython3",
   "version": "3.8.5"
  }
 },
 "nbformat": 4,
 "nbformat_minor": 4
}
