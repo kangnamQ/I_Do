{
 "cells": [
  {
   "cell_type": "code",
   "execution_count": 1,
   "metadata": {},
   "outputs": [
    {
     "name": "stdout",
     "output_type": "stream",
     "text": [
      "pygame 1.9.6\n",
      "Hello from the pygame community. https://www.pygame.org/contribute.html\n"
     ]
    },
    {
     "ename": "error",
     "evalue": "Couldn't open background.png",
     "output_type": "error",
     "traceback": [
      "\u001b[1;31m---------------------------------------------------------------------------\u001b[0m",
      "\u001b[1;31merror\u001b[0m                                     Traceback (most recent call last)",
      "\u001b[1;32m<ipython-input-1-33463ba6129f>\u001b[0m in \u001b[0;36m<module>\u001b[1;34m\u001b[0m\n\u001b[0;32m     10\u001b[0m \u001b[1;31m#변수\u001b[0m\u001b[1;33m\u001b[0m\u001b[1;33m\u001b[0m\u001b[1;33m\u001b[0m\u001b[0m\n\u001b[0;32m     11\u001b[0m \u001b[1;33m\u001b[0m\u001b[0m\n\u001b[1;32m---> 12\u001b[1;33m \u001b[0mbackground_image\u001b[0m \u001b[1;33m=\u001b[0m \u001b[0mpygame\u001b[0m\u001b[1;33m.\u001b[0m\u001b[0mimage\u001b[0m\u001b[1;33m.\u001b[0m\u001b[0mload\u001b[0m\u001b[1;33m(\u001b[0m\u001b[1;34m'background.png'\u001b[0m\u001b[1;33m)\u001b[0m\u001b[1;33m\u001b[0m\u001b[1;33m\u001b[0m\u001b[0m\n\u001b[0m\u001b[0;32m     13\u001b[0m \u001b[1;33m\u001b[0m\u001b[0m\n\u001b[0;32m     14\u001b[0m \u001b[0mrock_image\u001b[0m \u001b[1;33m=\u001b[0m \u001b[0mpygame\u001b[0m\u001b[1;33m.\u001b[0m\u001b[0mimage\u001b[0m\u001b[1;33m.\u001b[0m\u001b[0mload\u001b[0m\u001b[1;33m(\u001b[0m\u001b[1;34m'rock.png'\u001b[0m\u001b[1;33m)\u001b[0m\u001b[1;33m\u001b[0m\u001b[1;33m\u001b[0m\u001b[0m\n",
      "\u001b[1;31merror\u001b[0m: Couldn't open background.png"
     ]
    }
   ],
   "source": [
    "import pygame #파이 게임 모듈 임포트\n",
    "import random\n",
    "\n",
    "pygame.init() #파이 게임 초기화\n",
    "SCREEN_WIDTH = 600\n",
    "SCREEN_HEIGHT = 800\n",
    "screen = pygame.display.set_mode((SCREEN_WIDTH, SCREEN_HEIGHT)) #화면 크기 설정\n",
    "clock = pygame.time.Clock() \n",
    "\n",
    "#변수\n",
    "\n",
    "background_image = pygame.image.load('background.png')\n",
    "\n",
    "rock_image = pygame.image.load('rock.png')\n",
    "rocks = []\n",
    "for i in range(3):\n",
    "    rock = rock_image.get_rect(left=random.randint(0, SCREEN_WIDTH), top=-100)\n",
    "    rocks.append(rock)\n",
    "\n",
    "fighter_image = pygame.image.load('fighter.png')\n",
    "fighter = fighter_image.get_rect(centerx=SCREEN_WIDTH // 2, bottom=SCREEN_HEIGHT)\n",
    "\n",
    "while True: #게임 루프\n",
    "    screen.blit(background_image, (0, 0))\n",
    "\n",
    "    #변수 업데이트\n",
    "\n",
    "    event = pygame.event.poll() #이벤트 처리\n",
    "    if event.type == pygame.QUIT:\n",
    "        break\n",
    "    pressed = pygame.key.get_pressed()\n",
    "    if pressed[pygame.K_LEFT]:\n",
    "        fighter.left -= 5\n",
    "    elif pressed[pygame.K_RIGHT]:\n",
    "        fighter.left += 5\n",
    "\n",
    "    for rock in rocks:\n",
    "        rock.top += 3\n",
    "\n",
    "    if fighter.left < 0:\n",
    "        fighter.left = 0\n",
    "    elif fighter.right > SCREEN_WIDTH:\n",
    "        fighter.right = SCREEN_WIDTH\n",
    "\n",
    "    #화면 그리기\n",
    "\n",
    "    for rock in rocks:\n",
    "        screen.blit(rock_image, rock)\n",
    "\n",
    "    screen.blit(fighter_image, fighter)\n",
    "\n",
    "    pygame.display.update() #모든 화면 그리기 업데이트\n",
    "    clock.tick(30) #30 FPS (초당 프레임 수) 를 위한 딜레이 추가, 딜레이 시간이 아닌 목표로 하는 FPS 값\n",
    "\n",
    "pygame.quit() "
   ]
  },
  {
   "cell_type": "code",
   "execution_count": null,
   "metadata": {},
   "outputs": [],
   "source": [
    " if len(block_list) == 0:\n",
    "        level += 1\n",
    "        for i in range(level * 10):\n",
    "            block = Block(black, 20, 15)\n",
    "            block.rect.x = random.randrange(screen_width)\n",
    "            block.rect.y = random.randrange(screen_height)\n",
    "            block_list.add(block)\n",
    "            all_sprites_list.add(block)\n",
    "            \n",
    "   if point_list[rand_p_list] == point_list[0]\n",
    "        point += 1\n",
    "    elif point_list[rand_p_list] == point_list[1]\n",
    "        point -= 1            \n",
    "            \n",
    "eat_list = pygame.sprite.spritecollide(player, plus, True)\n",
    "\n",
    "player_image = pygame.image.load(\"hand.png\").convert()\n",
    "player_image.set_colorkey(white)\n",
    "\n",
    "player_position = pygame.mouse.get_pos()\n",
    "x = player_position[0]\n",
    "y = player_position[1]\n",
    "        \n",
    "screen.blit(player_image, [x,y])\n",
    "            "
   ]
  }
 ],
 "metadata": {
  "kernelspec": {
   "display_name": "Python 3",
   "language": "python",
   "name": "python3"
  },
  "language_info": {
   "codemirror_mode": {
    "name": "ipython",
    "version": 3
   },
   "file_extension": ".py",
   "mimetype": "text/x-python",
   "name": "python",
   "nbconvert_exporter": "python",
   "pygments_lexer": "ipython3",
   "version": "3.8.5"
  }
 },
 "nbformat": 4,
 "nbformat_minor": 4
}
