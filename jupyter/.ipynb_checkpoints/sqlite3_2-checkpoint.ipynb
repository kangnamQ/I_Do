{
 "cells": [
  {
   "cell_type": "code",
   "execution_count": 1,
   "metadata": {},
   "outputs": [
    {
     "name": "stdout",
     "output_type": "stream",
     "text": [
      "ID: wynam, password: n1234, name: 남운영, time: 2020-09-28 08:58:51.215594\n",
      "ID: jklee, password: l3456, name: 이전경, time: 2020-09-28 08:58:51.218594\n"
     ]
    }
   ],
   "source": [
    "## 데이터 조회\n",
    "\n",
    "import sqlite3\n",
    "\n",
    "conn = sqlite3.connect('member.db')\n",
    "cursor = conn.cursor()\n",
    "\n",
    "cursor.execute(\"select * from meminfo\")\n",
    "rows = cursor.fetchall()\n",
    "\n",
    "for row in rows:\n",
    "    print(\"ID: %s, password: %s, name: %s, time: %s\" %(row[0], row[1], row[2], row[3]))\n",
    "    \n",
    "\n",
    "conn.close()"
   ]
  },
  {
   "cell_type": "code",
   "execution_count": 2,
   "metadata": {},
   "outputs": [
    {
     "name": "stdout",
     "output_type": "stream",
     "text": [
      "ID: wynam, password: n1234, name: 남운영, time: 2020-09-28 08:58:51.215594\n",
      "ID: jklee, password: l3456, name: 이전경, time: 2020-09-28 08:58:51.218594\n"
     ]
    }
   ],
   "source": [
    "## 열이름으로 조회\n",
    "\n",
    "import sqlite3\n",
    "\n",
    "conn = sqlite3.connect('member.db')\n",
    "\n",
    "conn.row_factory = sqlite3.Row\n",
    "cursor = conn.cursor()\n",
    "cursor.execute('select * from meminfo')\n",
    "rows = cursor.fetchall()\n",
    "\n",
    "for row in rows:\n",
    "    print(\"ID: %s, password: %s, name: %s, time: %s\" %(row['id'], row['passwd'], row['name'], row['time']))\n",
    "\n",
    "conn.close()"
   ]
  },
  {
   "cell_type": "code",
   "execution_count": null,
   "metadata": {},
   "outputs": [],
   "source": []
  }
 ],
 "metadata": {
  "kernelspec": {
   "display_name": "Python 3",
   "language": "python",
   "name": "python3"
  },
  "language_info": {
   "codemirror_mode": {
    "name": "ipython",
    "version": 3
   },
   "file_extension": ".py",
   "mimetype": "text/x-python",
   "name": "python",
   "nbconvert_exporter": "python",
   "pygments_lexer": "ipython3",
   "version": "3.8.5"
  }
 },
 "nbformat": 4,
 "nbformat_minor": 4
}
