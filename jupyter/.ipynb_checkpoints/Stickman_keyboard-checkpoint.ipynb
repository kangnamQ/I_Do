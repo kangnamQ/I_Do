{
 "cells": [
  {
   "cell_type": "code",
   "execution_count": 1,
   "metadata": {},
   "outputs": [],
   "source": [
    "### 기계공학과 4학년\n",
    "### 20154523 강남규"
   ]
  },
  {
   "cell_type": "markdown",
   "metadata": {},
   "source": [
    "## 스틱맨_키보드"
   ]
  },
  {
   "cell_type": "code",
   "execution_count": 2,
   "metadata": {},
   "outputs": [
    {
     "name": "stdout",
     "output_type": "stream",
     "text": [
      "pygame 1.9.6\n",
      "Hello from the pygame community. https://www.pygame.org/contribute.html\n"
     ]
    }
   ],
   "source": [
    "import pygame\n",
    "\n",
    "black = [0,0,0]\n",
    "white = [255,255,255]\n",
    "green = [0,255,0]\n",
    "red = [255,0,0]\n",
    "\n",
    "\n",
    "def draw_stick_figure(screen,x,y):\n",
    "    pygame.draw.ellipse(screen,black,[1+x,y,10,10],0)\n",
    "    \n",
    "    pygame.draw.line(screen,black,[5+x,17+y],[10+x,27+y],2)\n",
    "    pygame.draw.line(screen,black,[5+x,17+y],[x,27+y],2)\n",
    "    \n",
    "    pygame.draw.line(screen,red,[5+x,17+y],[5+x,7+y],2)\n",
    "    \n",
    "    pygame.draw.line(screen,red,[5+x,7+y],[9+x,17+y],2)\n",
    "    pygame.draw.line(screen,red,[5+x,7+y],[1+x,17+y],2)\n",
    "   \n",
    "    \n",
    "pygame.init()\n",
    "    \n",
    "    \n",
    "size=[700,500]\n",
    "screen=pygame.display.set_mode(size)\n",
    "pygame.display.set_caption(\"키보드 이동\")\n",
    "\n",
    "x_speed = 0\n",
    "y_speed = 0\n",
    "\n",
    "x_coord = 10\n",
    "y_coord = 10\n",
    "\n",
    "\n",
    "done = False\n",
    "clock = pygame.time.Clock()\n",
    "\n",
    "\n",
    "while done==False:    \n",
    "    for event in pygame.event.get():\n",
    "        if event.type == pygame.QUIT:\n",
    "            done=True\n",
    "            \n",
    "        if event.type == pygame.KEYDOWN:\n",
    "            if event.type == pygame.K_LEFT:\n",
    "                x_speed = -3\n",
    "            if event.type == pygame.K_RIGHT:\n",
    "                x_speed = +3\n",
    "            if event.type == pygame.K_UP:\n",
    "                y_speed = -3\n",
    "            if event.type == pygame.K_DOWN:\n",
    "                y_speed = +3\n",
    "            \n",
    "        if event.type == pygame.K_UP:\n",
    "            if event.type == pygame.K_LEFT:\n",
    "                x_speed = 0\n",
    "            if event.type == pygame.K_RIGHT:\n",
    "                x_speed = 0\n",
    "            if event.type == pygame.K_UP:\n",
    "                y_speed = 0\n",
    "            if event.type == pygame.K_DOWN:\n",
    "                y_speed = 0\n",
    "            \n",
    "            \n",
    "    screen.fill(white)\n",
    "    \n",
    "    x_coord = x_coord+x_speed\n",
    "    y_coord = y_coord+y_speed\n",
    "    \n",
    "    \n",
    "    draw_stick_figure(screen,x_coord,y_coord)\n",
    "    \n",
    "    pygame.display.flip()\n",
    "    \n",
    "    clock.tick(20)\n",
    "    \n",
    "    \n",
    "pygame.quit()\n"
   ]
  },
  {
   "cell_type": "code",
   "execution_count": null,
   "metadata": {},
   "outputs": [],
   "source": []
  }
 ],
 "metadata": {
  "kernelspec": {
   "display_name": "Python 3",
   "language": "python",
   "name": "python3"
  },
  "language_info": {
   "codemirror_mode": {
    "name": "ipython",
    "version": 3
   },
   "file_extension": ".py",
   "mimetype": "text/x-python",
   "name": "python",
   "nbconvert_exporter": "python",
   "pygments_lexer": "ipython3",
   "version": "3.8.5"
  }
 },
 "nbformat": 4,
 "nbformat_minor": 4
}
