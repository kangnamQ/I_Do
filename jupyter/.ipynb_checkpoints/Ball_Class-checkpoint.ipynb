{
 "cells": [
  {
   "cell_type": "code",
   "execution_count": 1,
   "metadata": {},
   "outputs": [],
   "source": [
    "### 기계공학과 4학년\n",
    "### 20154523 강남규"
   ]
  },
  {
   "cell_type": "markdown",
   "metadata": {},
   "source": [
    "## 클래스를 이용한 공 이동 코드"
   ]
  },
  {
   "cell_type": "code",
   "execution_count": 2,
   "metadata": {},
   "outputs": [
    {
     "name": "stdout",
     "output_type": "stream",
     "text": [
      "pygame 1.9.6\n",
      "Hello from the pygame community. https://www.pygame.org/contribute.html\n"
     ]
    }
   ],
   "source": [
    "import pygame\n",
    "\n",
    "\n",
    "WHITE = [255,255,255]\n",
    "RED = [255,0,0]\n",
    "BLUE = [0,0,255]\n",
    "\n",
    "\n",
    "class Ball():\n",
    "    x = 0\n",
    "    y = 0\n",
    "    change_x = 0\n",
    "    change_y = 0\n",
    "    size = 10\n",
    "    color = WHITE\n",
    "\n",
    "    \n",
    "    def draw(self,screen):\n",
    "        pygame.draw.circle(screen, self.color,[self.x,self.y],self.size)\n",
    "        \n",
    "    def move(self):\n",
    "        self.x += self.change_x\n",
    "        self.y += self.change_y\n",
    "        \n",
    "    def bounce(self):\n",
    "        if self.y > 490 or self.y < 10:\n",
    "            self.change_y = self.change_y * -1\n",
    "        \n",
    "        if self.x > 690 or self.x < 10:\n",
    "            self.change_x = self.change_x * -1\n",
    "\n",
    "            \n",
    "pygame.init()\n",
    "        \n",
    "        \n",
    "size=[700,500]\n",
    "screen=pygame.display.set_mode(size)\n",
    "pygame.display.set_caption(\"Ball Class\")\n",
    "\n",
    "\n",
    "done = False\n",
    "clock = pygame.time.Clock()\n",
    "\n",
    "\n",
    "redBall = Ball()\n",
    "blueBall = Ball()\n",
    "\n",
    "redBall.x = 50\n",
    "redBall.y = 50\n",
    "blueBall.x = 600\n",
    "blueBall.y = 400\n",
    "\n",
    "redBall.change_x = 5\n",
    "redBall.change_y = 5\n",
    "blueBall.change_x = -7\n",
    "blueBall.change_y = -7\n",
    "\n",
    "redBall.color = RED\n",
    "blueBall.color = BLUE\n",
    "\n",
    "\n",
    "while done==False:\n",
    "    for event in pygame.event.get():\n",
    "        if event.type == pygame.QUIT:\n",
    "            done=True\n",
    "            \n",
    "    screen.fill(WHITE)\n",
    "    \n",
    "    redBall.draw(screen)\n",
    "    blueBall.draw(screen)\n",
    "    \n",
    "    redBall.move()\n",
    "    blueBall.move()\n",
    "    \n",
    "    redBall.bounce()\n",
    "    blueBall.bounce()\n",
    "    \n",
    "        \n",
    "    clock.tick(20)\n",
    "    \n",
    "    pygame.display.flip()\n",
    "    \n",
    "pygame.quit()\n"
   ]
  },
  {
   "cell_type": "code",
   "execution_count": null,
   "metadata": {},
   "outputs": [],
   "source": []
  }
 ],
 "metadata": {
  "kernelspec": {
   "display_name": "Python 3",
   "language": "python",
   "name": "python3"
  },
  "language_info": {
   "codemirror_mode": {
    "name": "ipython",
    "version": 3
   },
   "file_extension": ".py",
   "mimetype": "text/x-python",
   "name": "python",
   "nbconvert_exporter": "python",
   "pygments_lexer": "ipython3",
   "version": "3.8.3"
  }
 },
 "nbformat": 4,
 "nbformat_minor": 4
}
