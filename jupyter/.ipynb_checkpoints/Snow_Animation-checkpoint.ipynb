{
 "cells": [
  {
   "cell_type": "code",
   "execution_count": 1,
   "metadata": {},
   "outputs": [],
   "source": [
    "### 기계공학과 4학년\n",
    "### 20154523 강남규"
   ]
  },
  {
   "cell_type": "markdown",
   "metadata": {},
   "source": [
    "## 눈 내리기 코드"
   ]
  },
  {
   "cell_type": "code",
   "execution_count": 5,
   "metadata": {},
   "outputs": [],
   "source": [
    "import pygame\n",
    "import random\n",
    "\n",
    "\n",
    "pygame.init()\n",
    "\n",
    "\n",
    "blue = [0,0,255]\n",
    "white = [255,255,255]\n",
    "        \n",
    "size=[400,400]\n",
    "screen=pygame.display.set_mode(size)\n",
    "pygame.display.set_caption(\"Snow Animation\")\n",
    "\n",
    "\n",
    "star_list=[]\n",
    "\n",
    "for i in range(50):\n",
    "    x=random.randrange(0,400)\n",
    "    y=random.randrange(0,400)\n",
    "    star_list.append([x,y])\n",
    "\n",
    "\n",
    "done = False\n",
    "clock = pygame.time.Clock()\n",
    "\n",
    "\n",
    "while done == False:\n",
    "    for event in pygame.event.get():\n",
    "        if event.type == pygame.QUIT:\n",
    "            done = True\n",
    "            \n",
    "    screen.fill(white)\n",
    "\n",
    "    for i in range(len(star_list)):\n",
    "        pygame.draw.circle(screen,blue,star_list[i],2)\n",
    "        \n",
    "        star_list[i][1]+=1\n",
    "        \n",
    "    \n",
    "    if star_list[i][1] > 400:\n",
    "        y = random.randrange(-50, -10)\n",
    "        star_list[i][1] = y\n",
    "        \n",
    "        x = random.randrange(0,400)\n",
    "        star_list[i][0] = x\n",
    "         \n",
    "    \n",
    "    \n",
    "    clock.tick(20)\n",
    "    \n",
    "    pygame.display.flip()\n",
    "    \n",
    "pygame.quit()\n"
   ]
  },
  {
   "cell_type": "code",
   "execution_count": null,
   "metadata": {},
   "outputs": [],
   "source": []
  }
 ],
 "metadata": {
  "kernelspec": {
   "display_name": "Python 3",
   "language": "python",
   "name": "python3"
  },
  "language_info": {
   "codemirror_mode": {
    "name": "ipython",
    "version": 3
   },
   "file_extension": ".py",
   "mimetype": "text/x-python",
   "name": "python",
   "nbconvert_exporter": "python",
   "pygments_lexer": "ipython3",
   "version": "3.8.5"
  }
 },
 "nbformat": 4,
 "nbformat_minor": 4
}
