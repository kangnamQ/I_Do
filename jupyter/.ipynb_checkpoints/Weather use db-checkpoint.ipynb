{
 "cells": [
  {
   "cell_type": "code",
   "execution_count": 1,
   "metadata": {},
   "outputs": [],
   "source": [
    "import urllib.request\n",
    "from bs4 import BeautifulSoup\n",
    "\n",
    "page = urllib.request.urlopen(\"http://www.weather.go.kr/weather/observation/currentweather.jsp\").read()\n",
    "\n",
    "soup = BeautifulSoup(page, 'html.parser')"
   ]
  },
  {
   "cell_type": "code",
   "execution_count": 2,
   "metadata": {},
   "outputs": [],
   "source": [
    "import sqlite3\n",
    "\n",
    "conn = sqlite3.connect('Weather.db')\n",
    "\n",
    "conn.row_factory = sqlite3.Row\n",
    "cursor = conn.cursor()"
   ]
  },
  {
   "cell_type": "code",
   "execution_count": 3,
   "metadata": {},
   "outputs": [
    {
     "name": "stdout",
     "output_type": "stream",
     "text": [
      "2020-09-28 11:00\n"
     ]
    }
   ],
   "source": [
    "# <input type=\"text\" id=\"observation_text\" class=\"time\" name=\"tm\" value=\"2020. 09. 28. 09:00\">\n",
    "current_time = soup.find('input', {'class':'time'})\n",
    "\n",
    "dt = current_time['value'].split('.')\n",
    "year = dt[0]\n",
    "month = dt[1]\n",
    "date = dt[2]\n",
    "time = dt[3]\n",
    "\n",
    "date_time = year+\"-\"+month+\"-\"+date+\" \"+time \n",
    "print(date_time)"
   ]
  },
  {
   "cell_type": "code",
   "execution_count": 4,
   "metadata": {},
   "outputs": [],
   "source": [
    "table = soup.find('table', {'class': 'table_develop3'})\n",
    "\n",
    "data = []\n",
    "\n",
    "for tr in table.find_all('tr'):\n",
    "    tds = list(tr.find_all('td'))\n",
    "    for td in tds:\n",
    "        if td.find('a'):\n",
    "            city = td.find('a').text\n",
    "            now = tds[1].text\n",
    "            temperature = tds[5].text\n",
    "            humidity = tds[9].text\n",
    "            atm = tds[12].text\n",
    "            data.append([city, now, temperature, humidity, atm])\n",
    "           \n",
    "            cursor.execute('''\n",
    "                insert into CityWeather (city, now, temperature, humidity, atm, dtime) values(?, ?, ?, ?, ?, ?)''',\n",
    "                           (city, now, temperature, humidity, atm, date_time))\n",
    "\n",
    "conn.commit()"
   ]
  },
  {
   "cell_type": "code",
   "execution_count": 5,
   "metadata": {},
   "outputs": [],
   "source": [
    "## 표준기압(atm)=760mmHg=1,013.25hPa\n",
    "cursor.execute('select * from CityWeather where now == \"맑음\" and temperature > 18 and atm > 1015')\n",
    "rows = cursor.fetchall()\n",
    "\n",
    "for row in rows:\n",
    "    print(\"도시: %s, 현재일기: %s 온도: %s, 습도: %s, 기압: %s, 시간: %s\" % \n",
    "              (row['city'], row['now'], row['temperature'], row['humidity'], row['atm'], row['dtime']))\n",
    "\n",
    "conn.close()"
   ]
  },
  {
   "cell_type": "code",
   "execution_count": null,
   "metadata": {},
   "outputs": [],
   "source": []
  },
  {
   "cell_type": "code",
   "execution_count": null,
   "metadata": {},
   "outputs": [],
   "source": []
  }
 ],
 "metadata": {
  "kernelspec": {
   "display_name": "Python 3",
   "language": "python",
   "name": "python3"
  },
  "language_info": {
   "codemirror_mode": {
    "name": "ipython",
    "version": 3
   },
   "file_extension": ".py",
   "mimetype": "text/x-python",
   "name": "python",
   "nbconvert_exporter": "python",
   "pygments_lexer": "ipython3",
   "version": "3.8.5"
  }
 },
 "nbformat": 4,
 "nbformat_minor": 4
}
