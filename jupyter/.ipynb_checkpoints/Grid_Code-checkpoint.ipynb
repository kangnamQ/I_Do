{
 "cells": [
  {
   "cell_type": "code",
   "execution_count": 1,
   "metadata": {},
   "outputs": [],
   "source": [
    "### 기계공학과 4학년\n",
    "### 20154523 강남규"
   ]
  },
  {
   "cell_type": "markdown",
   "metadata": {},
   "source": [
    "## 그리드 코드"
   ]
  },
  {
   "cell_type": "code",
   "execution_count": null,
   "metadata": {},
   "outputs": [],
   "source": [
    "import pygame\n",
    "\n",
    "black = [0,0,0]\n",
    "white = [255,255,255]\n",
    "green = [0,255,0]\n",
    "red = [255,0,0]\n",
    "\n",
    "\n",
    "width = 20\n",
    "height = 20\n",
    "\n",
    "margin = 5\n",
    "\n",
    "\n",
    "grid = []\n",
    "for row in range(10):\n",
    "    grid.append([])\n",
    "    for column in range(10):\n",
    "        grid[row].append(0)\n",
    "        \n",
    "grid[1][5] = 1\n",
    "\n",
    "\n",
    "pygame.init()\n",
    "    \n",
    "    \n",
    "size=[255,255]\n",
    "screen=pygame.display.set_mode(size)\n",
    "pygame.display.set_caption(\"그리드\")\n",
    "\n",
    "\n",
    "done = False\n",
    "clock = pygame.time.Clock()\n",
    "\n",
    "\n",
    "while done==False:    \n",
    "    for event in pygame.event.get():\n",
    "        if event.type == pygame.QUIT:\n",
    "            done=True\n",
    "            \n",
    "        if event.type == pygame.MOUSEBUTTONDOWN:\n",
    "            pos = pygame.mouse.get_pos()\n",
    "            \n",
    "            column = pos[0] // (width+margin)\n",
    "            row = pos[1] // (height+margin)\n",
    "            \n",
    "            grid[row][column] = 1\n",
    "            print(\"Click \",pos,\"Grid coordinates: \",row,column)\n",
    "            \n",
    "            \n",
    "    screen.fill(black)\n",
    "    \n",
    "    for row in range(10):\n",
    "        for column in range(10):\n",
    "            color = white\n",
    "            if grid[row][column] == 1:\n",
    "                color = green\n",
    "            pygame.draw.rect(screen,color,[(margin+width)*column+margin,\n",
    "                                           (margin+height)*row+margin,width,height])\n",
    "     \n",
    "    \n",
    "    clock.tick(20)\n",
    "    pygame.display.flip()\n",
    "    \n",
    "    \n",
    "pygame.quit()\n"
   ]
  },
  {
   "cell_type": "code",
   "execution_count": null,
   "metadata": {},
   "outputs": [],
   "source": []
  }
 ],
 "metadata": {
  "kernelspec": {
   "display_name": "Python 3",
   "language": "python",
   "name": "python3"
  },
  "language_info": {
   "codemirror_mode": {
    "name": "ipython",
    "version": 3
   },
   "file_extension": ".py",
   "mimetype": "text/x-python",
   "name": "python",
   "nbconvert_exporter": "python",
   "pygments_lexer": "ipython3",
   "version": "3.8.5"
  }
 },
 "nbformat": 4,
 "nbformat_minor": 4
}
