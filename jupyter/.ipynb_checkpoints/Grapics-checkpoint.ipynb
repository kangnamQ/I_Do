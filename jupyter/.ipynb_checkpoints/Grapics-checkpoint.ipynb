{
 "cells": [
  {
   "cell_type": "code",
   "execution_count": 1,
   "metadata": {},
   "outputs": [],
   "source": [
    "### 기계공학과 4학년\n",
    "### 20154523 강남규"
   ]
  },
  {
   "cell_type": "markdown",
   "metadata": {},
   "source": [
    "## 그래픽스 예"
   ]
  },
  {
   "cell_type": "code",
   "execution_count": 2,
   "metadata": {},
   "outputs": [
    {
     "name": "stdout",
     "output_type": "stream",
     "text": [
      "pygame 1.9.6\n",
      "Hello from the pygame community. https://www.pygame.org/contribute.html\n"
     ]
    }
   ],
   "source": [
    "import pygame\n",
    "\n",
    "\n",
    "pygame.init()\n",
    "\n",
    "\n",
    "black = [0,0,0]\n",
    "white = [255,255,255]\n",
    "blue = [0,0,255]\n",
    "green = [0,255,0]\n",
    "red = [255,0,0]\n",
    "\n",
    "pi = 3.141592653\n",
    "\n",
    "\n",
    "size=[400,500]\n",
    "screen=pygame.display.set_mode(size)\n",
    "pygame.display.set_caption(\"Graphics Example\")\n",
    "\n",
    "\n",
    "done = False\n",
    "clock = pygame.time.Clock()\n",
    "\n",
    "while done==False:\n",
    "    clock.tick(10)\n",
    "    \n",
    "    for event in pygame.event.get():\n",
    "        if event.type == pygame.QUIT:\n",
    "            done=True\n",
    "            \n",
    "    screen.fill(white)\n",
    "    \n",
    "    pygame.draw.line(screen,green,[0,0],[100,100],5)\n",
    "    \n",
    "    y_offset=0\n",
    "    while y_offset < 100:\n",
    "        pygame.draw.line(screen,red,[0,10+y_offset],[100,110+y_offset],5)\n",
    "        y_offset=y_offset+10\n",
    "        \n",
    "    pygame.draw.rect(screen,black,[20,20,250,100],2)\n",
    "    \n",
    "    pygame.draw.ellipse(screen,black,[20,20,250,100],2)\n",
    "    \n",
    "    pygame.draw.arc(screen,black,[20,220,250,200],0,pi/2,2)\n",
    "    pygame.draw.arc(screen,green,[20,220,250,200],pi/2,pi,2)\n",
    "    pygame.draw.arc(screen,blue,[20,220,250,200],pi,3*pi/2,2)\n",
    "    pygame.draw.arc(screen,red,[20,220,250,200],3*pi/2,2*pi,2)\n",
    "    \n",
    "    pygame.draw.polygon(screen,black,[[100,100],[0,200],[200,200]],5)\n",
    "    \n",
    "    \n",
    "    font = pygame.font.Font(\"malgun.ttf\", 25)\n",
    "    \n",
    "    text1 = font.render(\"My text\",True,black)\n",
    "    screen.blit(text1, [300,150])\n",
    "    text2 = font.render(\"한글\",True,black)\n",
    "    screen.blit(text2, [300,250])\n",
    "    \n",
    "    pygame.display.flip()\n",
    "    \n",
    "pygame.quit()\n"
   ]
  },
  {
   "cell_type": "code",
   "execution_count": null,
   "metadata": {},
   "outputs": [],
   "source": []
  }
 ],
 "metadata": {
  "kernelspec": {
   "display_name": "Python 3",
   "language": "python",
   "name": "python3"
  },
  "language_info": {
   "codemirror_mode": {
    "name": "ipython",
    "version": 3
   },
   "file_extension": ".py",
   "mimetype": "text/x-python",
   "name": "python",
   "nbconvert_exporter": "python",
   "pygments_lexer": "ipython3",
   "version": "3.8.5"
  }
 },
 "nbformat": 4,
 "nbformat_minor": 4
}
