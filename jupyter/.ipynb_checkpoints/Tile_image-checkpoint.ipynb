{
 "cells": [
  {
   "cell_type": "code",
   "execution_count": 1,
   "metadata": {},
   "outputs": [],
   "source": [
    "### 기계공학과 4학년\n",
    "### 20154523 강남규"
   ]
  },
  {
   "cell_type": "markdown",
   "metadata": {},
   "source": [
    "## 타일 이미지 확장 프로그램"
   ]
  },
  {
   "cell_type": "code",
   "execution_count": 2,
   "metadata": {},
   "outputs": [
    {
     "name": "stdout",
     "output_type": "stream",
     "text": [
      "pygame 1.9.6\n",
      "Hello from the pygame community. https://www.pygame.org/contribute.html\n"
     ]
    }
   ],
   "source": [
    "import pygame\n",
    "\n",
    "white=[255,255,255]\n",
    "black=[0,0,0]\n",
    "back_color = [255,255,153]\n",
    "\n",
    "def setGraphic(tilex,tiley,tilewidth,tileheight,x,y):\n",
    "    atlas_image = pygame.image.load(\"terrain_atlas.png\").convert()\n",
    "    atlas_image.set_colorkey(white)\n",
    "    screen.blit(atlas_image, [x,y], [tilex,tiley,tilewidth,tileheight])\n",
    "    \n",
    "def setGraphic2(tilex,tiley,x,y,width,height):\n",
    "    atlas_image = pygame.image.load(\"terrain_atlas.png\").convert()\n",
    "    image = pygame.Surface([width, height])\n",
    "    atlas_image.set_colorkey(white)\n",
    "    \n",
    "    image.blit(atlas_image,[0,0],[tilex,tiley,32,32])\n",
    "    for column in range(width//32-2):\n",
    "        image.blit(atlas_image,[(column+1)*32,0], [tilex+32,tiley,32,32])\n",
    "    image.blit(atlas_image,[(width//32-1)*32,0], [tilex+64,tiley,32,32])\n",
    "    \n",
    "    for row in range(height//32-2):\n",
    "        image.blit(atlas_image,[0,(row+1)*32], [tilex,tiley+32,32,32])\n",
    "        for column in range(width//32-2):\n",
    "            image.blit(atlas_image,[(column+1)*32,(row+1)*32], [tilex+32,tiley+32,32,32])\n",
    "        image.blit(atlas_image,[(width//32-1)*32,(row+1)*32], [tilex+64,tiley+32,32,32])\n",
    "        \n",
    "    image.blit(atlas_image,[0,(height//32-1)*32],[tilex,tiley+64,32,32])\n",
    "    for column in range(width//32-2):\n",
    "        image.blit(atlas_image,[(column+1)*32,(height//32-1)*32], [tilex+32,tiley+64,32,32])\n",
    "    image.blit(atlas_image,[(width//32-1)*32,(height//32-1)*32], [tilex+64,tiley+64,32,32])\n",
    "    \n",
    "    screen.blit(image, [x,y])\n",
    "\n",
    "pygame.init()\n",
    "\n",
    "screen = pygame.display.set_mode([800,600])\n",
    "pygame.display.set_caption('어드벤처 이미지')\n",
    "clock = pygame.time.Clock()\n",
    "done = False\n",
    "\n",
    "while done == False:\n",
    "    clock.tick(10)\n",
    "    \n",
    "    for event in pygame.event.get():\n",
    "        if event.type == pygame.QUIT:\n",
    "            done=True\n",
    "        \n",
    "    screen.fill(back_color)\n",
    "    \n",
    "    setGraphic(32*30, 32*0, 64, 160, 100, 100)\n",
    "    setGraphic(32*29, 32*28, 96, 128, 300, 250)\n",
    "    setGraphic(32*16, 32*23, 96, 96, 150, 450)\n",
    "    \n",
    "    setGraphic2(32*16, 32*23, 600, 0, 128, 320)\n",
    "    \n",
    "    pygame.display.flip()\n",
    "\n",
    "pygame.quit()"
   ]
  }
 ],
 "metadata": {
  "kernelspec": {
   "display_name": "Python 3",
   "language": "python",
   "name": "python3"
  },
  "language_info": {
   "codemirror_mode": {
    "name": "ipython",
    "version": 3
   },
   "file_extension": ".py",
   "mimetype": "text/x-python",
   "name": "python",
   "nbconvert_exporter": "python",
   "pygments_lexer": "ipython3",
   "version": "3.8.5"
  }
 },
 "nbformat": 4,
 "nbformat_minor": 4
}
