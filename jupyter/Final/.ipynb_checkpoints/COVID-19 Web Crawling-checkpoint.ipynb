{
 "cells": [
  {
   "cell_type": "code",
   "execution_count": 1,
   "metadata": {},
   "outputs": [],
   "source": [
    "### 기계공학과 4학년\n",
    "### 20154523 강남규"
   ]
  },
  {
   "cell_type": "markdown",
   "metadata": {},
   "source": [
    "## 코로나바이러스감염증-19(COVID-19) 환자 현황"
   ]
  },
  {
   "cell_type": "code",
   "execution_count": 2,
   "metadata": {},
   "outputs": [],
   "source": [
    "import urllib.request\n",
    "import re\n",
    "from bs4 import BeautifulSoup\n",
    "import pandas as pd\n",
    "import sqlite3"
   ]
  },
  {
   "cell_type": "code",
   "execution_count": 3,
   "metadata": {},
   "outputs": [],
   "source": [
    "page1 = urllib.request.urlopen(\"http://ncov.mohw.go.kr/\").read()\n",
    "soup1 = BeautifulSoup(page1, 'html.parser')\n"
   ]
  },
  {
   "cell_type": "code",
   "execution_count": 4,
   "metadata": {},
   "outputs": [],
   "source": [
    "patient_data = soup1.find('div', {'class' : 'container'})\n",
    "\n",
    "current_data = patient_data.find('div', {'class' : 'liveNumOuter'})"
   ]
  },
  {
   "cell_type": "code",
   "execution_count": 5,
   "metadata": {},
   "outputs": [
    {
     "name": "stdout",
     "output_type": "stream",
     "text": [
      "(11.29. 00시 기준, 1.3 이후 누계)\n",
      "['', '11', '29', '00시', '기준', '1', '3', '이후', '누계', '']\n"
     ]
    }
   ],
   "source": [
    "when_current = current_data.find('span', {'class' : 'livedate'}).text  \n",
    "print(when_current)\n",
    "\n",
    "when_current_t = re.split('\\W+', when_current)\n",
    "print(when_current_t)"
   ]
  },
  {
   "cell_type": "code",
   "execution_count": 6,
   "metadata": {},
   "outputs": [
    {
     "name": "stdout",
     "output_type": "stream",
     "text": [
      "11월 29일 00시 기준\n"
     ]
    }
   ],
   "source": [
    "when = (when_current_t[1]+'월 '+when_current_t[2]+'일 '+when_current_t[3]+' '+when_current_t[4])\n",
    "print(when)"
   ]
  },
  {
   "cell_type": "code",
   "execution_count": 7,
   "metadata": {},
   "outputs": [],
   "source": [
    "today_current = current_data.find('div', {'class' : 'liveNum_today_new'})\n",
    "\n",
    "tit = today_current.find('strong', {'class' : 'tit'}).text\n",
    "subtit = today_current.find('span', {'class' : 'subtit'}).text\n",
    "\n",
    "subtit_number = today_current.find('span', {'class' : 'data'}).text"
   ]
  },
  {
   "cell_type": "code",
   "execution_count": 8,
   "metadata": {},
   "outputs": [
    {
     "name": "stdout",
     "output_type": "stream",
     "text": [
      "11월 29일 00시 기준 일일확진자 중 국내발생자는 413명 입니다. \n",
      "\n"
     ]
    }
   ],
   "source": [
    "when_current_info= (when+' '+tit+' 중 '+subtit+'자는 '+subtit_number+\"명 입니다. \\n\")\n",
    "print(when_current_info)"
   ]
  },
  {
   "cell_type": "code",
   "execution_count": 9,
   "metadata": {},
   "outputs": [],
   "source": [
    "page2 = urllib.request.urlopen(\"http://ncov.mohw.go.kr/bdBoardList_Real.do?brdId=1&brdGubun=13&ncvContSeq=&contSeq=&board_id=&gubun=\").read()\n",
    "soup2 = BeautifulSoup(page2, 'html.parser')"
   ]
  },
  {
   "cell_type": "code",
   "execution_count": 10,
   "metadata": {
    "scrolled": false
   },
   "outputs": [
    {
     "name": "stdout",
     "output_type": "stream",
     "text": [
      "   시도명 전일대비확진환자 증감           확진환자 (명)                          \n",
      "   시도명          합계 국내발생 해외유입     확진환자   격리중   격리해제  사망자 발생률 (*)\n",
      "0   합계         450  413   37    33824  5759  27542  523   65.24\n",
      "1   서울         158  154    4     8652  2031   6529   92      89\n",
      "2   부산          22   21    1      757   146    596   15   22.19\n",
      "3   대구           3    1    2     7228    31   6998  199     297\n",
      "4   인천          21   21    0     1375   296   1068   11      47\n",
      "5   광주           8    6    2      683   116    564    3   46.89\n",
      "6   대전           6    6    0      489    37    446    6   33.17\n",
      "7   울산           0    0    0      195    27    166    2      17\n",
      "8   세종           3    3    0       99    16     83    0   28.92\n",
      "9   경기          94   88    6     7200  1269   5815  116      54\n",
      "10  강원          19   19    0      644   245    393    6    41.8\n",
      "11  충북          22   19    3      305    96    206    3   19.07\n",
      "12  충남          13   12    1      894   224    662    8   42.12\n",
      "13  전북          17   17    0      318   143    173    2    17.5\n",
      "14  전남          20   20    0      420   207    211    2   22.52\n",
      "15  경북          11   11    0     1700    91   1552   57      64\n",
      "16  경남          15   15    0      605   224    380    1      18\n",
      "17  제주           1    0    1       79    19     60    0   11.78\n",
      "18  검역          17    0   17     2181   541   1640    0       -\n",
      "   시도명 전일대비확진환자 증감          \n",
      "   시도명          합계 국내발생 해외유입\n",
      "0   합계         450  413   37\n",
      "1   서울         158  154    4\n",
      "2   부산          22   21    1\n",
      "3   대구           3    1    2\n",
      "4   인천          21   21    0\n",
      "5   광주           8    6    2\n",
      "6   대전           6    6    0\n",
      "7   울산           0    0    0\n",
      "8   세종           3    3    0\n",
      "9   경기          94   88    6\n",
      "10  강원          19   19    0\n",
      "11  충북          22   19    3\n",
      "12  충남          13   12    1\n",
      "13  전북          17   17    0\n",
      "14  전남          20   20    0\n",
      "15  경북          11   11    0\n",
      "16  경남          15   15    0\n",
      "17  제주           1    0    1\n",
      "18  검역          17    0   17\n"
     ]
    }
   ],
   "source": [
    "#table_today = soup2.find('table',{'class':'num midsize'})\n",
    "data = []\n",
    "\n",
    "tables = soup2.select('table')\n",
    "table_html = str(tables)\n",
    "table_df_list = pd.read_html(table_html)\n",
    "table_df = table_df_list[0]\n",
    "\n",
    "print(table_df)\n",
    "\n",
    "\n",
    "table_df_y = table_df[[\"시도명\", \"전일대비확진환자 증감\"]]\n",
    "table_df_y_i = table_df[[(\"시도명\",\"시도명\"), (\"전일대비확진환자 증감\", \"국내발생\")]]\n",
    "\n",
    "print(table_df_y)\n"
   ]
  },
  {
   "cell_type": "code",
   "execution_count": 11,
   "metadata": {},
   "outputs": [
    {
     "data": {
      "text/plain": [
       "'\\nimport matplotlib.font_manager as fm\\nfont_list = fm.findSystemFonts(fontpaths = None, fontext = \\'ttf\\')\\nfontnow = fm.FontProperties(fname=font_list[0])\\nfrom matplotlib import pyplot as plt\\nimport matplotlib.font_manager as fm\\nimport matplotlib\\n\\nfont_location = \"C:\\\\jupyter\\\\Final\\\\malgun.ttf\"\\nfont_name = fm.FontProperties(fname = font_location).get_name()\\nmatplotlib.rc(\\'font\\', family=\\'malgun\\')\\n\\n        \\nx_c = table_df[[\"시도명\"]]\\ny_c = table_df[[(\"전일대비확진환자 증감\", \"합계\")]]\\ny_c_in = table_df[[(\"전일대비확진환자 증감\", \"국내발생\")]]\\ny_c_out = table_df[[(\"전일대비확진환자 증감\", \"해외유입\")]]\\nprint(y_c_out)\\n\\n\\n\\nax = table_df_y.plot(kind=\\'barh\\', stacked=True, title=\"COVID19 시도별 발생동향\", rot=0)\\nfor p in ax.patches:\\n    left, bottom, width, height = p.get_bbox().bounds\\n    ax.annotate(width, xy=(left+width/2, bottom+height/2), ha=\\'center\\', va=\\'center\\')\\nplt.box(False)\\n\\n\\nplt.xlabel(\"도시\")\\nplt.ylabel(\"전일 대비 확진환자\")\\nplt.title(\"COVID19 시도별 발생동향\")\\n\\n\\nplt.show()\\n'"
      ]
     },
     "execution_count": 11,
     "metadata": {},
     "output_type": "execute_result"
    }
   ],
   "source": [
    "\"\"\"\n",
    "import matplotlib.font_manager as fm\n",
    "font_list = fm.findSystemFonts(fontpaths = None, fontext = 'ttf')\n",
    "fontnow = fm.FontProperties(fname=font_list[0])\n",
    "from matplotlib import pyplot as plt\n",
    "import matplotlib.font_manager as fm\n",
    "import matplotlib\n",
    "\n",
    "font_location = \"C:\\jupyter\\Final\\malgun.ttf\"\n",
    "font_name = fm.FontProperties(fname = font_location).get_name()\n",
    "matplotlib.rc('font', family='malgun')\n",
    "\n",
    "        \n",
    "x_c = table_df[[\"시도명\"]]\n",
    "y_c = table_df[[(\"전일대비확진환자 증감\", \"합계\")]]\n",
    "y_c_in = table_df[[(\"전일대비확진환자 증감\", \"국내발생\")]]\n",
    "y_c_out = table_df[[(\"전일대비확진환자 증감\", \"해외유입\")]]\n",
    "print(y_c_out)\n",
    "\n",
    "\n",
    "\n",
    "ax = table_df_y.plot(kind='barh', stacked=True, title=\"COVID19 시도별 발생동향\", rot=0)\n",
    "for p in ax.patches:\n",
    "    left, bottom, width, height = p.get_bbox().bounds\n",
    "    ax.annotate(width, xy=(left+width/2, bottom+height/2), ha='center', va='center')\n",
    "plt.box(False)\n",
    "\n",
    "\n",
    "plt.xlabel(\"도시\")\n",
    "plt.ylabel(\"전일 대비 확진환자\")\n",
    "plt.title(\"COVID19 시도별 발생동향\")\n",
    "\n",
    "\n",
    "plt.show()\n",
    "\"\"\""
   ]
  },
  {
   "cell_type": "code",
   "execution_count": 12,
   "metadata": {},
   "outputs": [
    {
     "name": "stderr",
     "output_type": "stream",
     "text": [
      "C:\\Users\\kayal\\anaconda3\\lib\\site-packages\\pandas\\core\\generic.py:2653: UserWarning: The spaces in these column names will not be changed. In pandas versions < 0.14, spaces were converted to underscores.\n",
      "  sql.to_sql(\n"
     ]
    }
   ],
   "source": [
    "# SQLite3 DB로 저장하기\n",
    "con = sqlite3.connect(\"COVID19_Table.db\")\n",
    "table_df.to_sql(\"table_name\", con, if_exists=\"append\", index=False)\n",
    "\n",
    "con.close()\n",
    "\n",
    "\n",
    " # 엑셀로 저장하기\n",
    "table_df.to_excel(\"COVID19_CSV.xlsx\")"
   ]
  },
  {
   "cell_type": "code",
   "execution_count": null,
   "metadata": {},
   "outputs": [],
   "source": [
    "# SQLite3 DB 불러오기\n",
    "con = sqlite3.connect(\"COVID19_Table.db\")\n",
    "table_df = pd.read_sql(\"SELECT * FROM table_name\", con)\n",
    "con.close()\n",
    "\n",
    "# 엑셀파일 읽기\n",
    "df = pd.read_excel(\"COVID19_CSV.xlsx\")"
   ]
  }
 ],
 "metadata": {
  "kernelspec": {
   "display_name": "Python 3",
   "language": "python",
   "name": "python3"
  },
  "language_info": {
   "codemirror_mode": {
    "name": "ipython",
    "version": 3
   },
   "file_extension": ".py",
   "mimetype": "text/x-python",
   "name": "python",
   "nbconvert_exporter": "python",
   "pygments_lexer": "ipython3",
   "version": "3.8.3"
  }
 },
 "nbformat": 4,
 "nbformat_minor": 4
}
