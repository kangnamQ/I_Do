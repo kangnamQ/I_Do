{
 "cells": [
  {
   "cell_type": "code",
   "execution_count": 1,
   "metadata": {},
   "outputs": [],
   "source": [
    "### 기계공학과 4학년\n",
    "### 20154523 강남규"
   ]
  },
  {
   "cell_type": "markdown",
   "metadata": {},
   "source": [
    "## 배열 생성 예"
   ]
  },
  {
   "cell_type": "code",
   "execution_count": 4,
   "metadata": {},
   "outputs": [
    {
     "name": "stdout",
     "output_type": "stream",
     "text": [
      "[ 1  2  3  4  5  6  7  8  9 10]\n",
      "4\n",
      "[4 5 6]\n",
      "(10,)\n",
      "int32\n"
     ]
    }
   ],
   "source": [
    "import numpy as np\n",
    "\n",
    "arr1 = np.array([1, 2, 3, 4, 5, 6, 7, 8, 9, 10])\n",
    "print(arr1)\n",
    "print(arr1[3])\n",
    "print(arr1[3:6])\n",
    "print(arr1.shape)\n",
    "print(arr1.dtype)\n"
   ]
  },
  {
   "cell_type": "code",
   "execution_count": 5,
   "metadata": {},
   "outputs": [
    {
     "name": "stdout",
     "output_type": "stream",
     "text": [
      "[[1.  2.  3. ]\n",
      " [4.4 5.5 6.6]]\n",
      "[4.4 5.5 6.6]\n",
      "6.6\n",
      "6.6\n",
      "(2, 3)\n",
      "float64\n",
      "2\n",
      "6\n"
     ]
    }
   ],
   "source": [
    "arr2 = np.array([[1.0, 2.0, 3.0], [4.4, 5.5, 6.6]])\n",
    "print(arr2)\n",
    "print(arr2[1])\n",
    "print(arr2[1,2])\n",
    "print(arr2[1][2])\n",
    "print(arr2.shape)\n",
    "print(arr2.dtype)\n",
    "print(arr2.ndim)\n",
    "print(arr2.size)"
   ]
  },
  {
   "cell_type": "code",
   "execution_count": 6,
   "metadata": {},
   "outputs": [
    {
     "name": "stdout",
     "output_type": "stream",
     "text": [
      "[[[ 1  2  3  4]\n",
      "  [ 5  6  7  8]\n",
      "  [ 9 10 11 12]]\n",
      "\n",
      " [[11 12 13 14]\n",
      "  [15 16 17 18]\n",
      "  [19 20 21 22]]]\n",
      "[[ 1  2  3  4]\n",
      " [ 5  6  7  8]\n",
      " [ 9 10 11 12]]\n",
      "[19 20 21 22]\n",
      "19\n",
      "19\n",
      "(2, 3, 4)\n",
      "int32\n",
      "3\n",
      "24\n"
     ]
    }
   ],
   "source": [
    "arr3 = np.array([[[1, 2, 3, 4],\n",
    "                  [5, 6, 7, 8],\n",
    "                  [9, 10, 11, 12]],\n",
    "                 [[11, 12, 13, 14],\n",
    "                 [15, 16, 17, 18],\n",
    "                 [19, 20, 21, 22]]])\n",
    "print(arr3)\n",
    "print(arr3[0])\n",
    "print(arr3[1,2])\n",
    "print(arr3[1,2,0])\n",
    "print(arr3[1][2][0])\n",
    "print(arr3.shape)\n",
    "print(arr3.dtype)\n",
    "print(arr3.ndim)\n",
    "print(arr3.size)"
   ]
  },
  {
   "cell_type": "code",
   "execution_count": null,
   "metadata": {},
   "outputs": [],
   "source": []
  }
 ],
 "metadata": {
  "kernelspec": {
   "display_name": "Python 3",
   "language": "python",
   "name": "python3"
  },
  "language_info": {
   "codemirror_mode": {
    "name": "ipython",
    "version": 3
   },
   "file_extension": ".py",
   "mimetype": "text/x-python",
   "name": "python",
   "nbconvert_exporter": "python",
   "pygments_lexer": "ipython3",
   "version": "3.8.3"
  }
 },
 "nbformat": 4,
 "nbformat_minor": 4
}
