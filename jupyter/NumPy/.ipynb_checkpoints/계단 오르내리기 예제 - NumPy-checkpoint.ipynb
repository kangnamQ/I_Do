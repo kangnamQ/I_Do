{
 "cells": [
  {
   "cell_type": "code",
   "execution_count": 1,
   "metadata": {},
   "outputs": [],
   "source": [
    "### 기계공학과 4학년\n",
    "### 20154523 강남규"
   ]
  },
  {
   "cell_type": "markdown",
   "metadata": {},
   "source": [
    "## 계단 오르내리기 예제 - NumPy"
   ]
  },
  {
   "cell_type": "code",
   "execution_count": 2,
   "metadata": {},
   "outputs": [],
   "source": [
    "import numpy as np\n",
    "\n",
    "def pprint(arr, s):\n",
    "    print(\"shape: {}, dimension:{}, dtype:{}\".format(arr.shape, arr.ndim, arr.dtype))\n",
    "    print(s)\n",
    "    print(arr)\n",
    "    \n",
    "nsteps =100"
   ]
  },
  {
   "cell_type": "code",
   "execution_count": 3,
   "metadata": {},
   "outputs": [
    {
     "name": "stdout",
     "output_type": "stream",
     "text": [
      "shape: (100,), dimension:1, dtype:int32\n",
      "draws =>\n",
      "[1 0 0 1 0 0 1 1 0 0 1 1 1 0 0 0 1 1 0 0 0 0 1 0 1 1 0 1 0 1 1 1 1 0 0 0 0\n",
      " 0 0 0 1 1 0 1 1 1 1 0 0 1 0 1 0 1 1 1 0 1 0 0 0 0 0 1 1 0 0 1 1 1 1 0 1 1\n",
      " 1 0 1 1 0 1 1 0 1 1 0 1 0 1 1 1 0 0 1 0 0 1 0 1 1 0]\n",
      "shape: (100,), dimension:1, dtype:int32\n",
      "steps =>\n",
      "[ 1 -1 -1  1 -1 -1  1  1 -1 -1  1  1  1 -1 -1 -1  1  1 -1 -1 -1 -1  1 -1\n",
      "  1  1 -1  1 -1  1  1  1  1 -1 -1 -1 -1 -1 -1 -1  1  1 -1  1  1  1  1 -1\n",
      " -1  1 -1  1 -1  1  1  1 -1  1 -1 -1 -1 -1 -1  1  1 -1 -1  1  1  1  1 -1\n",
      "  1  1  1 -1  1  1 -1  1  1 -1  1  1 -1  1 -1  1  1  1 -1 -1  1 -1 -1  1\n",
      " -1  1  1 -1]\n",
      "shape: (100,), dimension:1, dtype:int32\n",
      "walk =>\n",
      "[ 1  0 -1  0 -1 -2 -1  0 -1 -2 -1  0  1  0 -1 -2 -1  0 -1 -2 -3 -4 -3 -4\n",
      " -3 -2 -3 -2 -3 -2 -1  0  1  0 -1 -2 -3 -4 -5 -6 -5 -4 -5 -4 -3 -2 -1 -2\n",
      " -3 -2 -3 -2 -3 -2 -1  0 -1  0 -1 -2 -3 -4 -5 -4 -3 -4 -5 -4 -3 -2 -1 -2\n",
      " -1  0  1  0  1  2  1  2  3  2  3  4  3  4  3  4  5  6  5  4  5  4  3  4\n",
      "  3  4  5  4]\n"
     ]
    }
   ],
   "source": [
    "draws = np.random.randint(0, 2, size = nsteps)  # << 0 ~ 2 사이의 값을 랜덤으로 받음\n",
    "pprint(draws, \"draws =>\")\n",
    "\n",
    "steps = np.where(draws > 0, 1, -1) #계단마다 오르 내리는 배열 \n",
    "pprint(steps, \"steps =>\")\n",
    "\n",
    "walk = steps.cumsum()  #계단의 위치 값 배열\n",
    "pprint(walk, \"walk =>\")"
   ]
  },
  {
   "cell_type": "code",
   "execution_count": 4,
   "metadata": {},
   "outputs": [
    {
     "data": {
      "image/png": "[encoded data removed]",
      "text/plain": [
       "<Figure size 432x288 with 1 Axes>"
      ]
     },
     "metadata": {
      "needs_background": "light"
     },
     "output_type": "display_data"
    }
   ],
   "source": [
    "%matplotlib inline\n",
    "import matplotlib.pyplot as plt\n",
    "\n",
    "x = range(nsteps) #<< 0~99 까지 100번 반복 (step이 100이라)\n",
    "plt.title(\"Random walk with +1/-1 steps\")\n",
    "plt.plot(x, walk)\n",
    "plt.show()"
   ]
  },
  {
   "cell_type": "markdown",
   "metadata": {},
   "source": [
    "## 계단 오르내리기 예제 2 - NumPy"
   ]
  },
  {
   "cell_type": "code",
   "execution_count": 6,
   "metadata": {},
   "outputs": [
    {
     "name": "stdout",
     "output_type": "stream",
     "text": [
      "max => 6\n",
      "min => -6\n",
      "shape: (100,), dimension:1, dtype:bool\n",
      "hist5 =>\n",
      "[False False False False False False False False False False False False\n",
      " False False False False False False False False False False False False\n",
      " False False False False False False False False False False False False\n",
      " False False  True  True  True False  True False False False False False\n",
      " False False False False False False False False False False False False\n",
      " False False  True False False False  True False False False False False\n",
      " False False False False False False False False False False False False\n",
      " False False False False  True  True  True False  True False False False\n",
      " False False  True False]\n",
      "hist5 # => 11\n",
      "first pos over 5 => 38\n"
     ]
    }
   ],
   "source": [
    "print(\"max =>\", walk.max())\n",
    "print(\"min =>\", walk.min())\n",
    "\n",
    "# 계단 위치 값 절대값이 5 이상 되는 위치 (문장내에서 주면 됨)\n",
    "hist5 = (np.abs(walk) >= 5)\n",
    "pprint(hist5, \"hist5 =>\")\n",
    "\n",
    "#누적 합 절대값이 5이상 되는 횟수\n",
    "print(\"hist5 # =>\", hist5.sum())\n",
    "\n",
    "# 누적 합 절대값이 5이상 되는 최초 위치\n",
    "print(\"first pos over 5 =>\", hist5.argmax())"
   ]
  },
  {
   "cell_type": "code",
   "execution_count": null,
   "metadata": {},
   "outputs": [],
   "source": []
  }
 ],
 "metadata": {
  "kernelspec": {
   "display_name": "Python 3",
   "language": "python",
   "name": "python3"
  },
  "language_info": {
   "codemirror_mode": {
    "name": "ipython",
    "version": 3
   },
   "file_extension": ".py",
   "mimetype": "text/x-python",
   "name": "python",
   "nbconvert_exporter": "python",
   "pygments_lexer": "ipython3",
   "version": "3.8.3"
  }
 },
 "nbformat": 4,
 "nbformat_minor": 4
}
