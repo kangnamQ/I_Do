{
 "cells": [
  {
   "cell_type": "code",
   "execution_count": 1,
   "metadata": {},
   "outputs": [],
   "source": [
    "### 기계공학과 4학년\n",
    "### 20154523 강남규"
   ]
  },
  {
   "cell_type": "markdown",
   "metadata": {},
   "source": [
    "## 슬라이싱 예"
   ]
  },
  {
   "cell_type": "code",
   "execution_count": 4,
   "metadata": {},
   "outputs": [],
   "source": [
    "import numpy as np\n",
    "\n",
    "def pprint(arr, s):\n",
    "    print(\"shape: {}, dimension:{}, dtype:{}\".format(arr.shape, arr.ndim, arr.dtype))\n",
    "    print(s)\n",
    "    print(arr)"
   ]
  },
  {
   "cell_type": "code",
   "execution_count": 5,
   "metadata": {},
   "outputs": [
    {
     "name": "stdout",
     "output_type": "stream",
     "text": [
      "shape: (4, 6), dimension:2, dtype:int32\n",
      "a1 =>\n",
      "[[ 1  2  3  4  5  6]\n",
      " [ 7  8  9 10 11 12]\n",
      " [13 14 15 16 17 18]\n",
      " [19 20 21 22 23 24]]\n"
     ]
    }
   ],
   "source": [
    "# 배열 데이터 생성 후 구조 변형\n",
    "\n",
    "a1 = np.arange(1, 25).reshape((4, 6))\n",
    "pprint(a1, \"a1 =>\")"
   ]
  },
  {
   "cell_type": "code",
   "execution_count": 6,
   "metadata": {},
   "outputs": [
    {
     "name": "stdout",
     "output_type": "stream",
     "text": [
      "shape: (2, 4), dimension:2, dtype:int32\n",
      "s1 =>\n",
      "[[ 8  9 10 11]\n",
      " [14 15 16 17]]\n"
     ]
    }
   ],
   "source": [
    "# 슬라이싱 배열 1\n",
    "\n",
    "s1 = a1[1:3, 1:5]    #<< 2 * 4 배열\n",
    "pprint(s1, \"s1 =>\")"
   ]
  },
  {
   "cell_type": "code",
   "execution_count": 9,
   "metadata": {},
   "outputs": [
    {
     "name": "stdout",
     "output_type": "stream",
     "text": [
      "shape: (2, 4), dimension:2, dtype:int32\n",
      "s =>\n",
      "[[ 8  9 10 11]\n",
      " [14 15 16 17]]\n"
     ]
    }
   ],
   "source": [
    "# 슬라이싱 배열 2\n",
    "\n",
    "s2 = a1[1:-1, 1:-1]    #<< 2 * 4 배열\n",
    "pprint(s2, \"s =>\")"
   ]
  },
  {
   "cell_type": "code",
   "execution_count": 10,
   "metadata": {},
   "outputs": [
    {
     "name": "stdout",
     "output_type": "stream",
     "text": [
      "shape: (2, 2), dimension:2, dtype:int32\n",
      "ss1 =>\n",
      "[[ 9 10]\n",
      " [15 16]]\n"
     ]
    }
   ],
   "source": [
    "# 슬라이싱 배열의 슬라이싱\n",
    "\n",
    "ss1 = s1[:, 1:3]\n",
    "pprint(ss1, \"ss1 =>\")"
   ]
  },
  {
   "cell_type": "code",
   "execution_count": 12,
   "metadata": {},
   "outputs": [
    {
     "name": "stdout",
     "output_type": "stream",
     "text": [
      "shape: (4, 6), dimension:2, dtype:int32\n",
      "b1 =>\n",
      "[[ 1  2  3  4  5  6]\n",
      " [ 7  8  9 10 11 12]\n",
      " [13 14 15 16 17 18]\n",
      " [19 20 21 22 23 24]]\n"
     ]
    }
   ],
   "source": [
    "# 배열 복사\n",
    "\n",
    "b1 = np.copy(a1)\n",
    "pprint(b1, \"b1 =>\")"
   ]
  },
  {
   "cell_type": "code",
   "execution_count": 13,
   "metadata": {},
   "outputs": [
    {
     "name": "stdout",
     "output_type": "stream",
     "text": [
      "shape: (2, 4), dimension:2, dtype:int32\n",
      "s1 =>\n",
      "[[    8 99999 99999    11]\n",
      " [   14 99999 99999    17]]\n",
      "shape: (4, 6), dimension:2, dtype:int32\n",
      "a1 =>\n",
      "[[    1     2     3     4     5     6]\n",
      " [    7     8 99999 99999    11    12]\n",
      " [   13    14 99999 99999    17    18]\n",
      " [   19    20    21    22    23    24]]\n",
      "shape: (4, 6), dimension:2, dtype:int32\n",
      "b1 =>\n",
      "[[ 1  2  3  4  5  6]\n",
      " [ 7  8  9 10 11 12]\n",
      " [13 14 15 16 17 18]\n",
      " [19 20 21 22 23 24]]\n"
     ]
    }
   ],
   "source": [
    "# 슬라이싱을 적용하여 참조한 4개 요소 업데이트 \n",
    "# 및 슬라이싱 배열 조회\n",
    "\n",
    "s1[:, 1:3] = 99999\n",
    "pprint(s1, \"s1 =>\")\n",
    "pprint(a1, \"a1 =>\")\n",
    "pprint(b1, \"b1 =>\")\n"
   ]
  },
  {
   "cell_type": "code",
   "execution_count": null,
   "metadata": {},
   "outputs": [],
   "source": []
  }
 ],
 "metadata": {
  "kernelspec": {
   "display_name": "Python 3",
   "language": "python",
   "name": "python3"
  },
  "language_info": {
   "codemirror_mode": {
    "name": "ipython",
    "version": 3
   },
   "file_extension": ".py",
   "mimetype": "text/x-python",
   "name": "python",
   "nbconvert_exporter": "python",
   "pygments_lexer": "ipython3",
   "version": "3.8.3"
  }
 },
 "nbformat": 4,
 "nbformat_minor": 4
}
