{
 "cells": [
  {
   "cell_type": "code",
   "execution_count": 1,
   "metadata": {},
   "outputs": [],
   "source": [
    "### 기계공학과 4학년\n",
    "### 20154523 강남규"
   ]
  },
  {
   "cell_type": "markdown",
   "metadata": {},
   "source": [
    "## 배열 연산 - 산술/비교 연산"
   ]
  },
  {
   "cell_type": "code",
   "execution_count": 2,
   "metadata": {},
   "outputs": [],
   "source": [
    "import numpy as np\n",
    "\n",
    "def pprint(arr, s):\n",
    "    print(\"shape: {}, dimension:{}, dtype:{}\".format(arr.shape, arr.ndim, arr.dtype))\n",
    "    print(s)\n",
    "    print(arr)"
   ]
  },
  {
   "cell_type": "code",
   "execution_count": 3,
   "metadata": {},
   "outputs": [
    {
     "name": "stdout",
     "output_type": "stream",
     "text": [
      "shape: (3, 3), dimension:2, dtype:int32\n",
      "a's data =>\n",
      "[[1 2 3]\n",
      " [4 5 6]\n",
      " [7 8 9]]\n",
      "shape: (3, 3), dimension:2, dtype:int32\n",
      "b's data =>\n",
      "[[9 8 7]\n",
      " [6 5 4]\n",
      " [3 2 1]]\n"
     ]
    }
   ],
   "source": [
    "a = np.array([[1, 2, 3], [4, 5, 6], [7, 8, 9]])\n",
    "pprint(a, \"a's data =>\")\n",
    "\n",
    "b = np.array([[9, 8, 7], [6, 5, 4], [3, 2, 1]])\n",
    "pprint(b, \"b's data =>\")"
   ]
  },
  {
   "cell_type": "code",
   "execution_count": 4,
   "metadata": {},
   "outputs": [
    {
     "name": "stdout",
     "output_type": "stream",
     "text": [
      "shape: (3, 3), dimension:2, dtype:int32\n",
      "c = a + b =>\n",
      "[[10 10 10]\n",
      " [10 10 10]\n",
      " [10 10 10]]\n"
     ]
    }
   ],
   "source": [
    "c = a + b\n",
    "pprint(c, \"c = a + b =>\")"
   ]
  },
  {
   "cell_type": "code",
   "execution_count": 5,
   "metadata": {},
   "outputs": [
    {
     "name": "stdout",
     "output_type": "stream",
     "text": [
      "shape: (3, 3), dimension:2, dtype:int32\n",
      "d = a * b =>\n",
      "[[ 9 16 21]\n",
      " [24 25 24]\n",
      " [21 16  9]]\n"
     ]
    }
   ],
   "source": [
    "d = a * b\n",
    "pprint(d, \"d = a * b =>\")"
   ]
  },
  {
   "cell_type": "code",
   "execution_count": 6,
   "metadata": {},
   "outputs": [
    {
     "name": "stdout",
     "output_type": "stream",
     "text": [
      "shape: (3, 3), dimension:2, dtype:bool\n",
      "e = a != b =>\n",
      "[[ True  True  True]\n",
      " [ True False  True]\n",
      " [ True  True  True]]\n"
     ]
    }
   ],
   "source": [
    "e = a != b\n",
    "pprint(e, \"e = a != b =>\")"
   ]
  },
  {
   "cell_type": "code",
   "execution_count": 7,
   "metadata": {},
   "outputs": [
    {
     "name": "stdout",
     "output_type": "stream",
     "text": [
      "shape: (3, 3), dimension:2, dtype:bool\n",
      "f = a >= b =>\n",
      "[[False False False]\n",
      " [False  True  True]\n",
      " [ True  True  True]]\n"
     ]
    }
   ],
   "source": [
    "f = a >= b\n",
    "pprint(f, \"f = a >= b =>\")"
   ]
  },
  {
   "cell_type": "markdown",
   "metadata": {},
   "source": [
    "## 배열 연산 - 수학 함수"
   ]
  },
  {
   "cell_type": "code",
   "execution_count": 9,
   "metadata": {},
   "outputs": [
    {
     "name": "stdout",
     "output_type": "stream",
     "text": [
      "shape: (3, 3), dimension:2, dtype:float64\n",
      "h = np.sqrt(a) =>\n",
      "[[1.         1.41421356 1.73205081]\n",
      " [2.         2.23606798 2.44948974]\n",
      " [2.64575131 2.82842712 3.        ]]\n"
     ]
    }
   ],
   "source": [
    "h = np.sqrt(a)\n",
    "pprint(h, \"h = np.sqrt(a) =>\")"
   ]
  },
  {
   "cell_type": "code",
   "execution_count": 10,
   "metadata": {},
   "outputs": [
    {
     "name": "stdout",
     "output_type": "stream",
     "text": [
      "shape: (3, 3), dimension:2, dtype:float64\n",
      "g = np.cos(a) =>\n",
      "[[ 0.54030231 -0.41614684 -0.9899925 ]\n",
      " [-0.65364362  0.28366219  0.96017029]\n",
      " [ 0.75390225 -0.14550003 -0.91113026]]\n"
     ]
    }
   ],
   "source": [
    "g = np.cos(a)\n",
    "pprint(g, \"g = np.cos(a) =>\")"
   ]
  },
  {
   "cell_type": "code",
   "execution_count": 11,
   "metadata": {},
   "outputs": [
    {
     "name": "stdout",
     "output_type": "stream",
     "text": [
      "shape: (3, 3), dimension:2, dtype:int32\n",
      "m = np.dot(a, b) =>\n",
      "[[ 30  24  18]\n",
      " [ 84  69  54]\n",
      " [138 114  90]]\n"
     ]
    }
   ],
   "source": [
    "m = np.dot(a, b)\n",
    "pprint(m, \"m = np.dot(a, b) =>\")"
   ]
  },
  {
   "cell_type": "markdown",
   "metadata": {},
   "source": [
    "## 배열 연산 - 집계 함수 예1"
   ]
  },
  {
   "cell_type": "code",
   "execution_count": 13,
   "metadata": {},
   "outputs": [
    {
     "name": "stdout",
     "output_type": "stream",
     "text": [
      "shape: (), dimension:0, dtype:int32\n",
      "s_none = a.sum() =>\n",
      "45\n",
      "shape: (3,), dimension:1, dtype:int32\n",
      "s_0 = a.sum(axis = 0) =>\n",
      "[12 15 18]\n",
      "shape: (3,), dimension:1, dtype:int32\n",
      "s_1 = a.sum(axis = 1) =>\n",
      "[ 6 15 24]\n"
     ]
    }
   ],
   "source": [
    "# sum () 집계합수\n",
    "\n",
    "s_none = a.sum()  # a.sum() == np.sum(a)\n",
    "pprint(s_none, \"s_none = a.sum() =>\")\n",
    "\n",
    "s_0 = a.sum(axis = 0) #np.sum(a, axis = 0)\n",
    "pprint(s_0, \"s_0 = a.sum(axis = 0) =>\")\n",
    "\n",
    "s_1 = a.sum(axis = 1) #np.sum(a, axis = 1)\n",
    "pprint(s_1, \"s_1 = a.sum(axis = 1) =>\")"
   ]
  },
  {
   "cell_type": "code",
   "execution_count": 15,
   "metadata": {},
   "outputs": [
    {
     "name": "stdout",
     "output_type": "stream",
     "text": [
      "shape: (), dimension:0, dtype:int32\n",
      "mx_none = a.max() =>\n",
      "9\n",
      "shape: (3,), dimension:1, dtype:int32\n",
      "mx_0 = a.max(axis = 0) =>\n",
      "[7 8 9]\n",
      "shape: (3,), dimension:1, dtype:int32\n",
      "mx_1 = a.max(axis = 1) =>\n",
      "[3 6 9]\n"
     ]
    }
   ],
   "source": [
    "# max() 집계 함수\n",
    "\n",
    "mx_none = a.max()\n",
    "pprint(mx_none, \"mx_none = a.max() =>\")\n",
    "\n",
    "mx_0 = a.max(axis = 0)\n",
    "pprint(mx_0, \"mx_0 = a.max(axis = 0) =>\")\n",
    "\n",
    "mx_1 = a.max(axis = 1)\n",
    "pprint(mx_1, \"mx_1 = a.max(axis = 1) =>\")"
   ]
  },
  {
   "cell_type": "code",
   "execution_count": 19,
   "metadata": {},
   "outputs": [
    {
     "name": "stdout",
     "output_type": "stream",
     "text": [
      "shape: (), dimension:0, dtype:float64\n",
      "mn_none = a.mean() =>\n",
      "5.0\n",
      "shape: (3,), dimension:1, dtype:float64\n",
      "mn_0 = a.mean(axis=0) =>\n",
      "[4. 5. 6.]\n",
      "shape: (3,), dimension:1, dtype:float64\n",
      "mn_1 = a.mean(axis=1) =>\n",
      "[2. 5. 8.]\n"
     ]
    }
   ],
   "source": [
    "# mean() 집계 함수\n",
    "\n",
    "mn_none = a.mean()\n",
    "pprint(mn_none, \"mn_none = a.mean() =>\")\n",
    "\n",
    "mn_0 = a.mean(axis=0)\n",
    "pprint(mn_0, \"mn_0 = a.mean(axis=0) =>\")\n",
    "\n",
    "mn_1 = a.mean(axis=1)\n",
    "pprint(mn_1, \"mn_1 = a.mean(axis=1) =>\")"
   ]
  },
  {
   "cell_type": "markdown",
   "metadata": {},
   "source": [
    "## 배열 연산 - 집계 함수 예 2"
   ]
  },
  {
   "cell_type": "code",
   "execution_count": 20,
   "metadata": {},
   "outputs": [
    {
     "name": "stdout",
     "output_type": "stream",
     "text": [
      "shape: (), dimension:0, dtype:int64\n",
      "agx = a.argmax() =>\n",
      "8\n",
      "shape: (), dimension:0, dtype:int64\n",
      "agn = a.argmin() =>\n",
      "0\n",
      "shape: (3,), dimension:1, dtype:int64\n",
      "agx0 = a.argmax(axis = 0) =>\n",
      "[2 2 2]\n",
      "shape: (3,), dimension:1, dtype:int64\n",
      "agx1 = a.argmax(axis = 1) =>\n",
      "[2 2 2]\n"
     ]
    }
   ],
   "source": [
    "# 전체 성분의 최소값과 최대값이 위치한 인덱스를 반환한다.\n",
    "# argmin, argmax 의 역할\n",
    "\n",
    "agx = a.argmax()  # << np.argmax(a)\n",
    "pprint(agx, \"agx = a.argmax() =>\")\n",
    "\n",
    "agn = a.argmin()\n",
    "pprint(agn, \"agn = a.argmin() =>\")\n",
    "\n",
    "agx0 = a.argmax(axis = 0)\n",
    "pprint(agx0, \"agx0 = a.argmax(axis = 0) =>\")\n",
    "\n",
    "agx1 = a.argmax(axis = 1)\n",
    "pprint(agx1, \"agx1 = a.argmax(axis = 1) =>\")"
   ]
  },
  {
   "cell_type": "code",
   "execution_count": 21,
   "metadata": {},
   "outputs": [
    {
     "name": "stdout",
     "output_type": "stream",
     "text": [
      "shape: (9,), dimension:1, dtype:int32\n",
      "cs = a.cumsum() =>\n",
      "[ 1  3  6 10 15 21 28 36 45]\n",
      "shape: (3, 3), dimension:2, dtype:int32\n",
      "cs1 = a.cumsum(axis = 1) =>\n",
      "[[ 1  3  6]\n",
      " [ 4  9 15]\n",
      " [ 7 15 24]]\n"
     ]
    }
   ],
   "source": [
    "# 맨 처음 성분부터 각 성분까지의 누적합 또는 누적곱을 계산\n",
    "# cumsum = 누적합 ,  cumprod = 누적곱\n",
    "\n",
    "cs = a.cumsum()\n",
    "pprint(cs, \"cs = a.cumsum() =>\")\n",
    "\n",
    "cs1 = a.cumsum(axis = 1)\n",
    "pprint(cs1, \"cs1 = a.cumsum(axis = 1) =>\")"
   ]
  },
  {
   "cell_type": "code",
   "execution_count": null,
   "metadata": {},
   "outputs": [],
   "source": []
  }
 ],
 "metadata": {
  "kernelspec": {
   "display_name": "Python 3",
   "language": "python",
   "name": "python3"
  },
  "language_info": {
   "codemirror_mode": {
    "name": "ipython",
    "version": 3
   },
   "file_extension": ".py",
   "mimetype": "text/x-python",
   "name": "python",
   "nbconvert_exporter": "python",
   "pygments_lexer": "ipython3",
   "version": "3.8.3"
  }
 },
 "nbformat": 4,
 "nbformat_minor": 4
}
