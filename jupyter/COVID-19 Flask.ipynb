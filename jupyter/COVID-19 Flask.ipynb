{
 "cells": [
  {
   "cell_type": "code",
   "execution_count": 1,
   "metadata": {},
   "outputs": [],
   "source": [
    "### 기계공학과 4학년\n",
    "### 20154523 강남규"
   ]
  },
  {
   "cell_type": "markdown",
   "metadata": {},
   "source": [
    "## 코로나바이러스감염증-19(COVID-19) 환자 현황"
   ]
  },
  {
   "cell_type": "code",
   "execution_count": 2,
   "metadata": {},
   "outputs": [],
   "source": [
    "import urllib.request\n",
    "import re\n",
    "from bs4 import BeautifulSoup\n",
    "\n",
    "page1 = urllib.request.urlopen(\"http://ncov.mohw.go.kr/\").read()\n",
    "soup1 = BeautifulSoup(page1, 'html.parser')\n",
    "\n",
    "patient_data = soup1.find('div', {'class' : 'container'})\n",
    "\n",
    "current_data = patient_data.find('div', {'class' : 'liveNumOuter'})\n",
    "\n",
    "when_current = current_data.find('span', {'class' : 'livedate'}).text  \n",
    "when_current_t = re.split('\\W+', when_current)\n",
    "\n",
    "when = (when_current_t[1]+'월 '+when_current_t[2]+'일 '+when_current_t[3]+' '+when_current_t[4])\n",
    "\n",
    "today_current = current_data.find('div', {'class' : 'liveNum_today_new'})\n",
    "\n",
    "tit = today_current.find('strong', {'class' : 'tit'}).text\n",
    "subtit = today_current.find('span', {'class' : 'subtit'}).text\n",
    "\n",
    "subtit_number = today_current.find('span', {'class' : 'data'}).text\n",
    "\n",
    "when_current_info= (when+' '+tit+' 중 '+subtit+'자는 '+subtit_number+\"명 입니다. \\n\")"
   ]
  },
  {
   "cell_type": "code",
   "execution_count": 3,
   "metadata": {},
   "outputs": [],
   "source": [
    "page2 = urllib.request.urlopen(\"http://ncov.mohw.go.kr/bdBoardList_Real.do?brdId=1&brdGubun=13&ncvContSeq=&contSeq=&board_id=&gubun=\").read()\n",
    "soup2 = BeautifulSoup(page2, 'html.parser')\n",
    "\n",
    "table_today = soup2.find('table',{'class':'num midsize'})\n",
    "data = []\n",
    "\n",
    "today_a=table_today.find('tbody')\n",
    "where = list(today_a.find_all('tr'))\n",
    "a1 = (where[1].text) \n",
    "a2 = (where[2].text) \n",
    "a3 = (where[3].text) \n",
    "a4 = (where[4].text) \n",
    "a5 = (where[5].text) \n",
    "a6 = (where[6].text) \n",
    "a7 = (where[7].text) \n",
    "a8 = (where[8].text) \n",
    "a9 = (where[9].text) \n",
    "a10 = (where[10].text) \n",
    "a11 = (where[11].text) \n",
    "a12 = (where[12].text) \n",
    "a13 = (where[13].text) \n",
    "a14 = (where[14].text) \n",
    "a15 = (where[15].text) \n",
    "a16 = (where[16].text) \n",
    "a17 = (where[17].text) \n",
    "#where = list(today_a.find_all('tr'))\n",
    "#o = [1, 2, 3, 4, 5, 6, 7, 8, 9, 10, 11, 12, 13, 14, 15, 16, 17]\n",
    "#for i in o:\n",
    "#  ai = (where[i].text)\n",
    "#  print(ai)\n",
    "\n",
    "\n",
    "aa = []\n",
    "aa.append([a1[:2],a1[2:4]]+[a2[:2],a2[2:4]]+[a3[:2],a3[2:4]]+[a4[:2],a4[2:4]]+[a5[:2],a5[2:4]]+[a6[:2],a6[2:4]]+[a7[:2],a7[2:4]]+[a8[:2],a8[2:4]])\n",
    "aa.append([a9[:2],a9[2:4]]+[a10[:2],a10[2:4]]+[a11[:2],a12[2:4]]+[a13[:2],a13[2:4]]+[a14[:2],a14[2:4]]+[a15[:2],a15[2:4]]+[a16[:2],a16[2:4]]+[a17[:2],a17[2:4]])            \n",
    "#for i in o:\n",
    "#    aa.append([ai[:2],ai[2:4]])\n",
    "\n",
    "how_current_info = (a1[:2]+'은 오늘 전일대비 ' +a1[2:4]+'명 증가하였습니다. \\n',\n",
    "                    a2[:2]+'은 오늘 전일대비 ' +a2[2:3]+'명 증가하였습니다. \\n',\n",
    "                    a3[:2]+'은 오늘 전일대비 ' +a3[2:3]+'명 증가하였습니다. \\n',\n",
    "                    a4[:2]+'은 오늘 전일대비 ' +a4[2:3]+'명 증가하였습니다. \\n',\n",
    "                    a5[:2]+'은 오늘 전일대비 ' +a5[2:3]+'명 증가하였습니다. \\n',\n",
    "                    a6[:2]+'은 오늘 전일대비 ' +a6[2:3]+'명 증가하였습니다. \\n',\n",
    "                    a7[:2]+'은 오늘 전일대비 ' +a7[2:3]+'명 증가하였습니다. \\n',\n",
    "                    a8[:2]+'은 오늘 전일대비 ' +a8[2:3]+'명 증가하였습니다. \\n',\n",
    "                    a9[:2]+'은 오늘 전일대비 ' +a9[2:4]+'명 증가하였습니다. \\n',\n",
    "                    a10[:2]+'은 오늘 전일대비 ' +a10[2:3]+'명 증가하였습니다. \\n',\n",
    "                    a11[:2]+'은 오늘 전일대비 ' +a11[2:3]+'명 증가하였습니다. \\n',\n",
    "                    a12[:2]+'은 오늘 전일대비 ' +a12[2:3]+'명 증가하였습니다. \\n',\n",
    "                    a13[:2]+'은 오늘 전일대비 ' +a13[2:3]+'명 증가하였습니다. \\n',\n",
    "                    a14[:2]+'은 오늘 전일대비 ' +a14[2:3]+'명 증가하였습니다. \\n',\n",
    "                    a15[:2]+'은 오늘 전일대비 ' +a15[2:3]+'명 증가하였습니다. \\n',\n",
    "                    a16[:2]+'은 오늘 전일대비 ' +a16[2:3]+'명 증가하였습니다. \\n',\n",
    "                    a17[:2]+'은 오늘 전일대비 ' +a17[2:3]+'명 증가하였습니다. \\n')"
   ]
  },
  {
   "cell_type": "code",
   "execution_count": 4,
   "metadata": {},
   "outputs": [],
   "source": [
    "with open('COVID-19_Now.csv', 'w', encoding='utf8') as file:\n",
    "    file.write('코로나바일러스감염증-19 (COVID-19) 확진 환자 현황 \\n\\n')\n",
    "    \n",
    "    file.write(when_current_info)\n",
    "    \n",
    "    file.write('\\n도시, 누적 확진자, 전일대비 증가 환자 \\n\\n')\n",
    "    \n",
    "    file.write(a1[:2]+'은 오늘 전일대비 ' +a1[2:4]+'명 증가하였습니다. \\n')\n",
    "    file.write(a2[:2]+'은 오늘 전일대비 ' +a2[2:3]+'명 증가하였습니다. \\n')\n",
    "    file.write(a3[:2]+'은 오늘 전일대비 ' +a3[2:3]+'명 증가하였습니다. \\n')\n",
    "    file.write(a4[:2]+'은 오늘 전일대비 ' +a4[2:3]+'명 증가하였습니다. \\n')\n",
    "    file.write(a5[:2]+'은 오늘 전일대비 ' +a5[2:3]+'명 증가하였습니다. \\n')\n",
    "    file.write(a6[:2]+'은 오늘 전일대비 ' +a6[2:3]+'명 증가하였습니다. \\n')\n",
    "    file.write(a7[:2]+'은 오늘 전일대비 ' +a7[2:3]+'명 증가하였습니다. \\n')\n",
    "    file.write(a8[:2]+'은 오늘 전일대비 ' +a8[2:3]+'명 증가하였습니다. \\n')\n",
    "    file.write(a9[:2]+'은 오늘 전일대비 ' +a9[2:4]+'명 증가하였습니다. \\n')\n",
    "    file.write(a10[:2]+'은 오늘 전일대비 ' +a10[2:3]+'명 증가하였습니다. \\n')\n",
    "    file.write(a11[:2]+'은 오늘 전일대비 ' +a11[2:3]+'명 증가하였습니다. \\n')\n",
    "    file.write(a12[:2]+'은 오늘 전일대비 ' +a12[2:3]+'명 증가하였습니다. \\n')\n",
    "    file.write(a13[:2]+'은 오늘 전일대비 ' +a13[2:3]+'명 증가하였습니다. \\n')\n",
    "    file.write(a14[:2]+'은 오늘 전일대비 ' +a14[2:3]+'명 증가하였습니다. \\n')\n",
    "    file.write(a15[:2]+'은 오늘 전일대비 ' +a15[2:3]+'명 증가하였습니다. \\n')\n",
    "    file.write(a16[:2]+'은 오늘 전일대비 ' +a16[2:3]+'명 증가하였습니다. \\n')\n",
    "    file.write(a17[:2]+'은 오늘 전일대비 ' +a17[2:3]+'명 증가하였습니다. \\n')\n",
    "\n",
    "    \n",
    "               \n",
    "    file.write('\\n\\n자료는 중앙재난안전대책본부(http://ncov.mohw.go.kr/)의 집계를 바탕으로 작성되었습니다.')"
   ]
  },
  {
   "cell_type": "code",
   "execution_count": 5,
   "metadata": {},
   "outputs": [],
   "source": [
    "from flask import Flask, render_template\n",
    "app = Flask(__name__)"
   ]
  },
  {
   "cell_type": "code",
   "execution_count": 6,
   "metadata": {},
   "outputs": [],
   "source": [
    "@app.route(\"/COVID\")\n",
    "def corona():\n",
    "    import time\n",
    "    \n",
    "    today_number = when_current_info\n",
    "    where_number = how_current_info\n",
    "    \n",
    "    daytime = time.asctime()\n",
    "    \n",
    "    return render_template(\"corona.html\", today_n = today_number, where_n = where_number, dt = daytime)\n"
   ]
  },
  {
   "cell_type": "code",
   "execution_count": null,
   "metadata": {},
   "outputs": [
    {
     "name": "stdout",
     "output_type": "stream",
     "text": [
      " * Serving Flask app \"__main__\" (lazy loading)\n",
      " * Environment: production\n",
      "   WARNING: This is a development server. Do not use it in a production deployment.\n",
      "   Use a production WSGI server instead.\n",
      " * Debug mode: off\n"
     ]
    },
    {
     "name": "stderr",
     "output_type": "stream",
     "text": [
      " * Running on http://127.0.0.1:5000/ (Press CTRL+C to quit)\n",
      "127.0.0.1 - - [21/Sep/2020 13:11:30] \"\u001b[33mGET / HTTP/1.1\u001b[0m\" 404 -\n",
      "127.0.0.1 - - [21/Sep/2020 13:11:36] \"\u001b[37mGET /COVID HTTP/1.1\u001b[0m\" 200 -\n"
     ]
    }
   ],
   "source": [
    "if __name__ == \"__main__\":\n",
    "    app.run()"
   ]
  },
  {
   "cell_type": "code",
   "execution_count": null,
   "metadata": {},
   "outputs": [],
   "source": []
  }
 ],
 "metadata": {
  "kernelspec": {
   "display_name": "Python 3",
   "language": "python",
   "name": "python3"
  },
  "language_info": {
   "codemirror_mode": {
    "name": "ipython",
    "version": 3
   },
   "file_extension": ".py",
   "mimetype": "text/x-python",
   "name": "python",
   "nbconvert_exporter": "python",
   "pygments_lexer": "ipython3",
   "version": "3.8.5"
  }
 },
 "nbformat": 4,
 "nbformat_minor": 4
}
