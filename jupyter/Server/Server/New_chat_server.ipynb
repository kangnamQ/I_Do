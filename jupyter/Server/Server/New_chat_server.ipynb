{
 "cells": [
  {
   "cell_type": "code",
   "execution_count": 1,
   "metadata": {},
   "outputs": [],
   "source": [
    "### 기계공학과 4학년\n",
    "### 20154523 강남규"
   ]
  },
  {
   "cell_type": "markdown",
   "metadata": {},
   "source": [
    "## New 채팅 서버 프로그램"
   ]
  },
  {
   "cell_type": "code",
   "execution_count": null,
   "metadata": {},
   "outputs": [
    {
     "name": "stdout",
     "output_type": "stream",
     "text": [
      "====================================================\n",
      "서버 네트워크 초기화 중입니다. 잠시 기다려 주십시오.\n",
      "====================================================\n",
      "-----------------------------------------------------\n",
      "('127.0.0.1', 59390) 에서 클라이언트가 연결되었습니다.\n",
      "-----------------------------------------------------\n",
      "[2020/11/16 13:0:22]  [클라이언트] : ?\n",
      "\n",
      "[2020/11/16 13:0:48]  나 : 현재 날짜와 시간을 체크가능\n",
      "\n",
      "[2020/11/16 13:1:29]  [클라이언트] : 상대방과의 채팅 가능\n",
      "\n",
      "[2020/11/16 13:1:29]  [클라이언트] : file_send\n",
      "\n",
      "[2020/11/16 13:1:29]  나 : file_send를 쓰면 전송할 파일을 입력하라고 나온다.\n",
      "\n",
      "[2020/11/16 13:2:16]  [클라이언트] : A.jpg\n",
      "\n",
      "[2020/11/16 13:2:16]  나 : A.jpg\n",
      "\n",
      "[2020/11/16 13:2:31]  나 : A.jpg\n",
      "\n"
     ]
    }
   ],
   "source": [
    "#채팅 서버 프로그램\n",
    "from socket import *\n",
    "from threading import *\n",
    "from os.path import exists\n",
    "import time\n",
    "\n",
    "now = time.localtime()\n",
    "now_time = (f\"{now.tm_year}/{now.tm_mon}/{now.tm_mday} {now.tm_hour}:{now.tm_min}:{now.tm_sec}\")\n",
    "\n",
    "def serverRecv():\n",
    "    while True:\n",
    "        clientMsg = connectionSocket.recv(1024)\n",
    "        print(f\"[\"+now_time+\"] \" + \" [클라이언트] : \" + clientMsg.decode(\"utf8\") + \"\\n\")\n",
    "\n",
    "\n",
    "print(\"=\"*52)\n",
    "print(\"서버 네트워크 초기화 중입니다. 잠시 기다려 주십시오.\")\n",
    "print(\"=\"*52)\n",
    "\n",
    "serverPort = 2020\n",
    "serverSocket = socket(AF_INET, SOCK_STREAM)\n",
    "serverSocket.bind(('', serverPort))\n",
    "serverSocket.listen(1)\n",
    "\n",
    "connectionSocket, addr = serverSocket.accept()\n",
    "\n",
    "print(\"-\"*53)\n",
    "print(addr, \"에서 클라이언트가 연결되었습니다.\")\n",
    "print(\"-\"*53)\n",
    "\n",
    "Thread(target = serverRecv).start()\n",
    "clientMsg = connectionSocket.recv(1024)\n",
    "\n",
    "\n",
    "while True:\n",
    "    now = time.localtime()\n",
    "    now_time = (f\"{now.tm_year}/{now.tm_mon}/{now.tm_mday} {now.tm_hour}:{now.tm_min}:{now.tm_sec}\")\n",
    "\n",
    "    msg = input(\"[\"+now_time+\"] \"+\" 나 : \")\n",
    "    print(\"\")\n",
    "    connectionSocket.send(msg.encode(\"utf8\"))\n",
    "\n",
    "\n",
    "    if clientMsg.decode(\"utf8\") == \"file_send\":\n",
    "        filename = connectionSocket.recv(1024)\n",
    "        data_trans = 0\n",
    "\n",
    "        if exists(filename) == False:\n",
    "            print(\"파일이 없습니다. 다시 확인하여 주세요.\")\n",
    "\n",
    "\n",
    "        print(f\"파일 {filename} 전송 시작\")\n",
    "        with open(filename, 'rb') as f:\n",
    "            try:\n",
    "                data = f.read(1024)\n",
    "                while data: #data가 다 떨어질때 까지 실행\n",
    "                    data_trans += connectionSocket.send(data) #1024바이트씩 더해줌\n",
    "                    data = f.read(1024)\n",
    "            except Exception as error:\n",
    "                 print(error)\n",
    "        print(f\"전송완료 : {filename} | 전송량 : [{data_trans} KB]\")\n",
    "\n",
    "\n",
    "connectionSocket.close()\n",
    "\n"
   ]
  }
 ],
 "metadata": {
  "kernelspec": {
   "display_name": "Python 3",
   "language": "python",
   "name": "python3"
  },
  "language_info": {
   "codemirror_mode": {
    "name": "ipython",
    "version": 3
   },
   "file_extension": ".py",
   "mimetype": "text/x-python",
   "name": "python",
   "nbconvert_exporter": "python",
   "pygments_lexer": "ipython3",
   "version": "3.8.3"
  }
 },
 "nbformat": 4,
 "nbformat_minor": 4
}
