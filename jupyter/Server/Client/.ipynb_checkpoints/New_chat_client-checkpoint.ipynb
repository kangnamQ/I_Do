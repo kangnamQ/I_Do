{
 "cells": [
  {
   "cell_type": "code",
   "execution_count": 1,
   "metadata": {},
   "outputs": [],
   "source": [
    "### 기계공학과 4학년\n",
    "### 20154523 강남규"
   ]
  },
  {
   "cell_type": "markdown",
   "metadata": {},
   "source": [
    "## New 채팅 클라이언트 프로그램"
   ]
  },
  {
   "cell_type": "code",
   "execution_count": null,
   "metadata": {
    "scrolled": true
   },
   "outputs": [
    {
     "name": "stdout",
     "output_type": "stream",
     "text": [
      "===========================================================\n",
      "클라이언트 네트워크 초기화 중입니다. 잠시 기다려 주십시오.\n",
      "===========================================================\n",
      "----------------------------------------------------------------\n",
      "서버가 연결되었습니다. 채팅을 두 번 치신 후에 대화가 시작됩니다.\n",
      "----------------------------------------------------------------\n",
      "[2020/11/16 13:0:29]  나 : ?\n",
      "\n",
      "[2020/11/16 13:0:32]  나 : 2번째는 전송이 안됩니다\n",
      "\n",
      "[2020/11/16 13:0:48]  [서버] : 현재 날짜와 시간을 체크가능\n",
      "\n",
      "[2020/11/16 13:0:48]  나 : 상대방과의 채팅 가능\n",
      "\n",
      "[2020/11/16 13:1:53]  나 : file_send\n",
      "\n",
      "[2020/11/16 13:1:53]  [서버] : file_send를 쓰면 전송할 파일을 입력하라고 나온다.\n",
      "\n",
      "전송할 파일을 입력하여 주세요 : A.jpg\n",
      "[2020/11/16 13:1:53]  [서버] : A.jpg\n",
      "\n"
     ]
    }
   ],
   "source": [
    "#채팅 클라이언트 프로그램\n",
    "from socket import *\n",
    "from threading import *\n",
    "import os\n",
    "import time\n",
    "\n",
    "now = time.localtime()\n",
    "now_time = (f\"{now.tm_year}/{now.tm_mon}/{now.tm_mday} {now.tm_hour}:{now.tm_min}:{now.tm_sec}\")\n",
    "\n",
    "def clientRecv():\n",
    "    while True:\n",
    "        serverMsg = clientSocket.recv(1024)\n",
    "        print(f\"[\"+now_time+\"] \" + \" [서버] : \" + serverMsg.decode(\"utf8\") + \"\\n\")\n",
    "\n",
    "    clientSocket.close()\n",
    "\n",
    "print(\"=\"*59)\n",
    "print(\"클라이언트 네트워크 초기화 중입니다. 잠시 기다려 주십시오.\")\n",
    "print(\"=\"*59)\n",
    "\n",
    "serverName = '127.0.0.1'\n",
    "serverPort = 2020\n",
    "clientSocket = socket(AF_INET, SOCK_STREAM)\n",
    "\n",
    "clientSocket.connect((serverName, serverPort))\n",
    "\n",
    "print(\"-\"*64)\n",
    "print(\"서버가 연결되었습니다. 채팅을 두 번 치신 후에 대화가 시작됩니다.\" )\n",
    "print(\"-\"*64)\n",
    "\n",
    "Thread(target = clientRecv).start()\n",
    "\n",
    "while True:\n",
    "    now = time.localtime()\n",
    "    now_time = (f\"{now.tm_year}/{now.tm_mon}/{now.tm_mday} {now.tm_hour}:{now.tm_min}:{now.tm_sec}\")\n",
    "\n",
    "    msg = input(\"[\" + now_time + \"] \" + \" 나 : \")\n",
    "    print(\"\")\n",
    "    clientSocket.send(msg.encode(\"utf8\"))\n",
    "\n",
    "    if str(msg) == \"file_send\":\n",
    "        filename = input('전송할 파일을 입력하여 주세요 : ')\n",
    "        clientSocket.send(filename.encode('utf-8'))\n",
    "\n",
    "        data = clientSocket.recv(1024)\n",
    "        data_trans = 0\n",
    "\n",
    "        if not data:\n",
    "            print(f\"파일 {filename}이 존재하지 않습니다.\")\n",
    "\n",
    "\n",
    "        dir_now = os.getcwd()\n",
    "        with open(dir_now + \"\\\\\" + filename, 'wb') as f:\n",
    "            try:\n",
    "                while data:\n",
    "                    f.write(data)\n",
    "                    data_trans += len(data)\n",
    "                    data = clientSocket.recv(1024)\n",
    "            except Exception as error:\n",
    "                print(error)\n",
    "        print(f\"파일 {filename} 받기 완료. | 전송량 : {data_trans}\")\n",
    "    continue\n",
    "\n",
    "\n",
    "\n",
    "clientSocket.close()\n"
   ]
  }
 ],
 "metadata": {
  "kernelspec": {
   "display_name": "Python 3",
   "language": "python",
   "name": "python3"
  },
  "language_info": {
   "codemirror_mode": {
    "name": "ipython",
    "version": 3
   },
   "file_extension": ".py",
   "mimetype": "text/x-python",
   "name": "python",
   "nbconvert_exporter": "python",
   "pygments_lexer": "ipython3",
   "version": "3.8.3"
  }
 },
 "nbformat": 4,
 "nbformat_minor": 4
}
