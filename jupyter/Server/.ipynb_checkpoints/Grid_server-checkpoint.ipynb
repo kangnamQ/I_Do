{
 "cells": [
  {
   "cell_type": "code",
   "execution_count": 1,
   "metadata": {},
   "outputs": [],
   "source": [
    "### 기계공학과 4학년\n",
    "### 20154523 강남규"
   ]
  },
  {
   "cell_type": "markdown",
   "metadata": {},
   "source": [
    "## 그리드 서버 프로그램"
   ]
  },
  {
   "cell_type": "code",
   "execution_count": 2,
   "metadata": {},
   "outputs": [
    {
     "name": "stdout",
     "output_type": "stream",
     "text": [
      "pygame 2.0.0 (SDL 2.0.12, python 3.8.3)\n",
      "Hello from the pygame community. https://www.pygame.org/contribute.html\n",
      "Server TCP initialize...\n",
      "Client connected... ('127.0.0.1', 50575)\n",
      "Click (87, 63) Grid Server Index: 2 3\n",
      "Send, Grid Server Index: 2 3\n",
      "Receive, Grid Client Index: 3 4\n",
      "Click (136, 116) Grid Server Index: 4 5\n",
      "Send, Grid Server Index: 4 5\n",
      "Receive, Grid Client Index: 5 4\n",
      "Click (83, 165) Grid Server Index: 6 3\n",
      "Send, Grid Server Index: 6 3\n",
      "Receive, Grid Client Index: 4 3\n",
      "Click (162, 62) Grid Server Index: 2 6\n",
      "Send, Grid Server Index: 2 6\n",
      "Receive, Grid Client Index: 3 6\n",
      "Click (161, 140) Grid Server Index: 5 6\n",
      "Send, Grid Server Index: 5 6\n",
      "Receive, Grid Client Index: 6 6\n"
     ]
    }
   ],
   "source": [
    "##그리드 서버 프로그램\n",
    "import pygame\n",
    "from socket import *\n",
    "from threading import *\n",
    "\n",
    "black = (0, 0, 0)\n",
    "white = (255, 255, 255)\n",
    "green = (0, 255, 0)\n",
    "red = (255, 0, 0)\n",
    "\n",
    "width = 20\n",
    "height = 20\n",
    "\n",
    "margin = 5\n",
    "\n",
    "def serverRecv():\n",
    "    while True:\n",
    "        clientIndex = list(connectionSocket.recv(1024))\n",
    "        row = clientIndex[0]\n",
    "        column = clientIndex[1]\n",
    "        grid[row][column] = 2\n",
    "        print(\"Receive, Grid Client Index:\",row,column)\n",
    "\n",
    "grid = []\n",
    "for row in range(10):\n",
    "    grid.append([])\n",
    "    for column in range(10):\n",
    "        grid[row].append(0)\n",
    "\n",
    "print(\"Server TCP initialize...\")\n",
    "\n",
    "serverPort = 8000\n",
    "serverSocket = socket(AF_INET, SOCK_STREAM)\n",
    "serverSocket.bind(('', serverPort))\n",
    "serverSocket.listen(1)\n",
    "connectionSocket, addr = serverSocket.accept()\n",
    "print(\"Client connected...\", addr)\n",
    "\n",
    "Thread(target = serverRecv).start()\n",
    "pygame.init()\n",
    "\n",
    "size=[255,255]\n",
    "screen = pygame.display.set_mode(size)\n",
    "pygame.display.set_caption(\"서버 그리드\")\n",
    "done = False\n",
    "clock = pygame.time.Clock()\n",
    "\n",
    "while done == False:\n",
    "    for event in pygame.event.get():\n",
    "        if event.type == pygame.QUIT:\n",
    "            done = True\n",
    "        if event.type == pygame.MOUSEBUTTONDOWN:\n",
    "            pos = pygame.mouse.get_pos()\n",
    "            column = pos[0] // (width + margin)\n",
    "            row = pos[1] // (height + margin)\n",
    "            grid[row][column] = 1\n",
    "            print(\"Click\", pos, \"Grid Server Index:\", row, column)\n",
    "\n",
    "            serverIndex = [row,column]\n",
    "            indexBytes = bytes(serverIndex)\n",
    "            connectionSocket.send(indexBytes)\n",
    "            print(\"Send, Grid Server Index:\", row, column)\n",
    "\n",
    "    screen.fill(black)\n",
    "    for row in range(10):\n",
    "        for column in range(10):\n",
    "            color = white\n",
    "            if grid[row][column] == 1:\n",
    "                color = green\n",
    "            elif grid[row][column] == 2:\n",
    "                color = red\n",
    "\n",
    "            pygame.draw.rect(screen, color,\n",
    "                             [(margin + width) * column + margin,\n",
    "                              (margin + height) * row + margin, width, height])\n",
    "    clock.tick(20)\n",
    "    pygame.display.flip()\n",
    "\n",
    "pygame.quit()"
   ]
  }
 ],
 "metadata": {
  "kernelspec": {
   "display_name": "Python 3",
   "language": "python",
   "name": "python3"
  },
  "language_info": {
   "codemirror_mode": {
    "name": "ipython",
    "version": 3
   },
   "file_extension": ".py",
   "mimetype": "text/x-python",
   "name": "python",
   "nbconvert_exporter": "python",
   "pygments_lexer": "ipython3",
   "version": "3.8.3"
  }
 },
 "nbformat": 4,
 "nbformat_minor": 4
}
