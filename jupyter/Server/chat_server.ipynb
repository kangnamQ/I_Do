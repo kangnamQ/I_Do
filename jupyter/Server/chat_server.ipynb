{
 "cells": [
  {
   "cell_type": "code",
   "execution_count": 1,
   "metadata": {},
   "outputs": [],
   "source": [
    "### 기계공학과 4학년\n",
    "### 20154523 강남규"
   ]
  },
  {
   "cell_type": "markdown",
   "metadata": {},
   "source": [
    "## 채팅 서버 프로그램"
   ]
  },
  {
   "cell_type": "code",
   "execution_count": null,
   "metadata": {},
   "outputs": [
    {
     "name": "stdout",
     "output_type": "stream",
     "text": [
      "서버 네트워크 연결 초기화 .....\n",
      "클라이언트 연결됨... ('127.0.0.1', 52935) \n",
      "\n",
      "채팅 서버 프로그램\n",
      "[클라이언트]채팅 클라이언트 프로그램\n",
      "\n",
      "[클라이언트]클라이언트 프로그램에서 채팅하는중\n",
      "\n",
      "서버 프로그램에서 채팅하는 중\n"
     ]
    }
   ],
   "source": [
    "#채팅 서버 프로그램\n",
    "from socket import *\n",
    "from threading import *\n",
    "\n",
    "def serverRecv():\n",
    "    while True:\n",
    "        clientMsg = connectionSocket.recv(1024)\n",
    "        print(\"[클라이언트]\" + clientMsg.decode(\"utf8\") + \"\\n\")\n",
    "\n",
    "print(\"서버 네트워크 연결 초기화 .....\")\n",
    "serverPort = 9000\n",
    "serverSocket = socket(AF_INET, SOCK_STREAM)\n",
    "serverSocket.bind(('', serverPort))\n",
    "serverSocket.listen(1)\n",
    "connectionSocket, addr = serverSocket.accept()\n",
    "print(\"클라이언트 연결됨...\", addr, \"\\n\")\n",
    "\n",
    "Thread(target = serverRecv).start()\n",
    "\n",
    "while True:\n",
    "    msg = input()\n",
    "    connectionSocket.send(msg.encode(\"utf8\"))\n",
    "\n",
    "connectionSocket.close()\n",
    "\n"
   ]
  }
 ],
 "metadata": {
  "kernelspec": {
   "display_name": "Python 3",
   "language": "python",
   "name": "python3"
  },
  "language_info": {
   "codemirror_mode": {
    "name": "ipython",
    "version": 3
   },
   "file_extension": ".py",
   "mimetype": "text/x-python",
   "name": "python",
   "nbconvert_exporter": "python",
   "pygments_lexer": "ipython3",
   "version": "3.8.3"
  }
 },
 "nbformat": 4,
 "nbformat_minor": 4
}
