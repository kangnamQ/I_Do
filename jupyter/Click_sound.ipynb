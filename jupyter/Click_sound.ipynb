{
 "cells": [
  {
   "cell_type": "code",
   "execution_count": 1,
   "metadata": {},
   "outputs": [],
   "source": [
    "### 기계공학과 4학년\n",
    "### 20154523 강남규"
   ]
  },
  {
   "cell_type": "markdown",
   "metadata": {},
   "source": [
    "## 클릭 사운드"
   ]
  },
  {
   "cell_type": "code",
   "execution_count": 2,
   "metadata": {},
   "outputs": [
    {
     "name": "stdout",
     "output_type": "stream",
     "text": [
      "pygame 1.9.6\n",
      "Hello from the pygame community. https://www.pygame.org/contribute.html\n"
     ]
    }
   ],
   "source": [
    "import pygame\n",
    "\n",
    "white=[255,255,255]\n",
    "black=[0,0,0]\n",
    "\n",
    "pygame.init()\n",
    "\n",
    "screen = pygame.display.set_mode([800,600])\n",
    "pygame.display.set_caption('이미지 이동')\n",
    "\n",
    "background = pygame.Surface(screen.get_size())\n",
    "background.fill(black)\n",
    "\n",
    "\n",
    "click_sound = pygame.mixer.Sound(\"click1.wav\")\n",
    "\n",
    "background_position=[0,0]\n",
    "\n",
    "background_image = pygame.image.load(\"saturn_family1.jpg\").convert()\n",
    "player_image = pygame.image.load(\"player.png\").convert()\n",
    "\n",
    "player_image.set_colorkey(white)\n",
    "\n",
    "clock = pygame.time.Clock()\n",
    "done = False\n",
    "\n",
    "while done == False:\n",
    "    clock.tick(10)\n",
    "    \n",
    "    for event in pygame.event.get():\n",
    "        if event.type == pygame.QUIT:\n",
    "            done=True\n",
    "        if event.type == pygame.MOUSEBUTTONDOWN:\n",
    "            click_sound.play()\n",
    "        \n",
    "    screen.blit(background_image, background_position)\n",
    "        \n",
    "    player_position = pygame.mouse.get_pos()\n",
    "    x = player_position[0]\n",
    "    y = player_position[1]\n",
    "        \n",
    "    screen.blit(player_image, [x,y])\n",
    "        \n",
    "    pygame.display.flip()\n",
    "\n",
    "pygame.quit()"
   ]
  }
 ],
 "metadata": {
  "kernelspec": {
   "display_name": "Python 3",
   "language": "python",
   "name": "python3"
  },
  "language_info": {
   "codemirror_mode": {
    "name": "ipython",
    "version": 3
   },
   "file_extension": ".py",
   "mimetype": "text/x-python",
   "name": "python",
   "nbconvert_exporter": "python",
   "pygments_lexer": "ipython3",
   "version": "3.8.5"
  }
 },
 "nbformat": 4,
 "nbformat_minor": 4
}
