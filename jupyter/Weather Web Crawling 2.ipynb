{
 "cells": [
  {
   "cell_type": "code",
   "execution_count": 1,
   "metadata": {},
   "outputs": [],
   "source": [
    "### 기계공학과 4학년\n",
    "### 20154523 강남규"
   ]
  },
  {
   "cell_type": "markdown",
   "metadata": {},
   "source": [
    "## 기상청 웹 크롤링"
   ]
  },
  {
   "cell_type": "code",
   "execution_count": 2,
   "metadata": {},
   "outputs": [],
   "source": [
    "import urllib.request\n",
    "from bs4 import BeautifulSoup"
   ]
  },
  {
   "cell_type": "code",
   "execution_count": 3,
   "metadata": {},
   "outputs": [],
   "source": [
    "page = urllib.request.urlopen(\"http://www.weather.go.kr/weather/observation/currentweather.jsp\").read()\n",
    "soup = BeautifulSoup(page, 'html.parser')"
   ]
  },
  {
   "cell_type": "code",
   "execution_count": 4,
   "metadata": {},
   "outputs": [],
   "source": [
    "table = soup.find('table',{'class':'table_develop3'})\n",
    "data = []"
   ]
  },
  {
   "cell_type": "code",
   "execution_count": 5,
   "metadata": {},
   "outputs": [],
   "source": [
    "for tr in table.find_all('tr'):\n",
    "    tds = list(tr.find_all('td'))\n",
    "    for td in tds:\n",
    "        if td.find('a'):\n",
    "            point = td.find('a').text\n",
    "            temperature = tds[5].text\n",
    "            humidity = tds[9].text\n",
    "            data.append([point, temperature, humidity])"
   ]
  },
  {
   "cell_type": "code",
   "execution_count": 6,
   "metadata": {},
   "outputs": [
    {
     "name": "stdout",
     "output_type": "stream",
     "text": [
      "[['강릉', '26.1', '58'], ['강진군', '26.7', '64'], ['강화', '24.1', '74'], ['거제', '26.0', '56'], ['거창', '25.7', '57'], ['경주시', '26.8', '56'], ['고산', '23.4', '90'], ['고창', '24.3', '74'], ['고창군', '23.8', '69'], ['고흥', '25.2', '69'], ['광양시', '26.2', '59'], ['광주', '26.2', '57'], ['구미', '27.2', '52'], ['군산', '24.8', '67'], ['금산', '25.3', '57'], ['김해시', '27.8', '58'], ['남원', '26.8', '57'], ['남해', '25.2', '72'], ['대관령', '20.7', '65'], ['대구', '26.7', '49'], ['대전', '25.8', '59'], ['동두천', '24.4', '75'], ['동해', '22.7', '71'], ['목포', '25.2', '66'], ['문경', '26.0', '53'], ['밀양', '26.4', '52'], ['백령도', '23.5', '77'], ['보령', '25.2', '66'], ['보성군', '25.8', '73'], ['보은', '25.1', '56'], ['봉화', '23.3', '62'], ['부산', '24.7', '72'], ['부안', '25.1', '64'], ['부여', '25.9', '60'], ['북강릉', '23.9', '67'], ['북창원', '27.3', '58'], ['북춘천', '23.6', '68'], ['산청', '26.3', '55'], ['상주', '25.7', '60'], ['서귀포', '24.8', '82'], ['서산', '25.0', '57'], ['서울', '24.3', '65'], ['성산', '25.4', '67'], ['속초', '26.9', '49'], ['수원', '24.6', '66'], ['순창군', '26.7', '54'], ['순천', '27.0', '55'], ['안동', '25.3', '58'], ['양산시', '27.3', '60'], ['양평', '24.9', '60'], ['여수', '25.2', '70'], ['영광군', '24.2', '74'], ['영덕', '26.2', '52'], ['영월', '22.8', '61'], ['영주', '24.8', '57'], ['영천', '26.0', '56'], ['완도', '25.9', '73'], ['울릉도', '22.0', '84'], ['울산', '26.2', '63'], ['울진', '23.7', '74'], ['원주', '23.6', '57'], ['의령군', '27.7', '55'], ['의성', '25.1', '58'], ['이천', '25.0', '64'], ['인제', '22.3', '65'], ['인천', '24.1', '67'], ['임실', '24.9', '64'], ['장수', '22.5', '67'], ['장흥', '25.3', '72'], ['전주', '25.4', '60'], ['정선군', '24.5', '61'], ['정읍', '25.4', '57'], ['제주', '24.8', '77'], ['제천', '23.7', '63'], ['진도군', '25.4', '66'], ['진주', '26.9', '54'], ['창원', '26.9', '54'], ['천안', '24.0', '62'], ['철원', '23.0', '76'], ['청송군', '25.1', '65'], ['청주', '25.8', '53'], ['추풍령', '24.2', '56'], ['춘천', '24.3', '63'], ['충주', '23.7', '63'], ['태백', '21.7', '56'], ['통영', '25.5', '75'], ['파주', '25.2', '68'], ['포항', '26.9', '54'], ['함양군', '27.8', '51'], ['합천', '26.0', '58'], ['해남', '27.2', '68'], ['홍성', '24.7', '62'], ['홍천', '24.1', '59'], ['흑산도', '24.9', '75']]\n"
     ]
    }
   ],
   "source": [
    "print(data)"
   ]
  },
  {
   "cell_type": "code",
   "execution_count": 12,
   "metadata": {},
   "outputs": [
    {
     "name": "stdout",
     "output_type": "stream",
     "text": [
      "2020.09.14.13:00\n",
      "['2020', '09', '14', '13', '00']\n"
     ]
    }
   ],
   "source": [
    "tdata = soup.find('div', {'id' : 'content_weather'})  #없어도 되는 부분이나 정확도 향상을 위해 사용\n",
    "\n",
    "find_time1 = tdata.find('p', {'class' : 'table_topinfo'}).text  \n",
    "find_time2 = find_time1[5:]\n",
    "print(find_time2)\n",
    "\n",
    "find_t3 = find_time2.split('.')\n",
    "find_t4 = find_t3[3].split(':')\n",
    "\n",
    "when_data = [find_t3[0], find_t3[1], find_t3[2], find_t4[0], find_t4[1]]\n",
    "print(when_data)"
   ]
  },
  {
   "cell_type": "code",
   "execution_count": 13,
   "metadata": {},
   "outputs": [
    {
     "name": "stdout",
     "output_type": "stream",
     "text": [
      "2020년 09월 14일 13시 00분 현재 날씨\n"
     ]
    }
   ],
   "source": [
    "print(when_data[0]+'년 '+when_data[1]+'월 '+when_data[2]+'일 '+when_data[3]+'시 '+when_data[4]+'분 '+'현재 날씨')"
   ]
  },
  {
   "cell_type": "code",
   "execution_count": 14,
   "metadata": {},
   "outputs": [],
   "source": [
    "with open('weather2.csv', 'w', encoding='utf8') as file:\n",
    "    file.write(when_data[0]+'년 '+when_data[1]+'월 '+when_data[2]+'일 '+when_data[3]+'시 '+when_data[4]+'분 '+'현재 날씨 \\n')\n",
    "    file.write('도시, 온도, 습도 \\n')\n",
    "    for i in data:\n",
    "        file. write('{0},{1},{2}\\n'.format(i[0],i[1],i[2]))"
   ]
  }
 ],
 "metadata": {
  "kernelspec": {
   "display_name": "Python 3",
   "language": "python",
   "name": "python3"
  },
  "language_info": {
   "codemirror_mode": {
    "name": "ipython",
    "version": 3
   },
   "file_extension": ".py",
   "mimetype": "text/x-python",
   "name": "python",
   "nbconvert_exporter": "python",
   "pygments_lexer": "ipython3",
   "version": "3.8.5"
  }
 },
 "nbformat": 4,
 "nbformat_minor": 4
}
