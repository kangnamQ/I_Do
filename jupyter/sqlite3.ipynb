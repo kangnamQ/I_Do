{
 "cells": [
  {
   "cell_type": "code",
   "execution_count": 1,
   "metadata": {},
   "outputs": [
    {
     "name": "stdout",
     "output_type": "stream",
     "text": [
      "데이터베이스 연결 성공\n"
     ]
    }
   ],
   "source": [
    "import sqlite3\n",
    "\n",
    "conn = sqlite3.connect('member.db')\n",
    "print(\"데이터베이스 연결 성공\")"
   ]
  },
  {
   "cell_type": "code",
   "execution_count": 2,
   "metadata": {},
   "outputs": [
    {
     "name": "stdout",
     "output_type": "stream",
     "text": [
      "테이블 생성 성공\n"
     ]
    }
   ],
   "source": [
    "cursor = conn.cursor()\n",
    "\n",
    "cursor.execute(''' \n",
    "    create table meminfo (id text primary key, passwd text, name text, time text);\n",
    "''')\n",
    "print(\"테이블 생성 성공\")"
   ]
  },
  {
   "cell_type": "code",
   "execution_count": 3,
   "metadata": {},
   "outputs": [
    {
     "name": "stdout",
     "output_type": "stream",
     "text": [
      "첫 번째 사용자 레코드 추가 성공\n",
      "두 번째 사용자 레코드 추가 성공\n"
     ]
    }
   ],
   "source": [
    "import datetime\n",
    "id1 = 'wynam'\n",
    "pwd1 = 'n1234'\n",
    "name1 = '남운영'\n",
    "time1 = datetime.datetime.now()\n",
    "\n",
    "cursor.execute(''' \n",
    "    insert into meminfo (id, passwd, name, time) values(?, ?, ?, ?)''',\n",
    "               (id1, pwd1, name1, time1))\n",
    "\n",
    "print(\"첫 번째 사용자 레코드 추가 성공\");\n",
    "\n",
    "\n",
    "id2 = 'jklee'\n",
    "pwd2 = 'l3456'\n",
    "name2 = '이전경'\n",
    "time2 = datetime.datetime.now()\n",
    "\n",
    "cursor.execute(''' \n",
    "    insert into meminfo (id, passwd, name, time) values(?, ?, ?, ?)''',\n",
    "               (id2, pwd2, name2, time2))\n",
    "\n",
    "print(\"두 번째 사용자 레코드 추가 성공\");\n",
    "\n",
    "\n",
    "conn.commit()\n",
    "conn.close()"
   ]
  }
 ],
 "metadata": {
  "kernelspec": {
   "display_name": "Python 3",
   "language": "python",
   "name": "python3"
  },
  "language_info": {
   "codemirror_mode": {
    "name": "ipython",
    "version": 3
   },
   "file_extension": ".py",
   "mimetype": "text/x-python",
   "name": "python",
   "nbconvert_exporter": "python",
   "pygments_lexer": "ipython3",
   "version": "3.8.5"
  }
 },
 "nbformat": 4,
 "nbformat_minor": 4
}
